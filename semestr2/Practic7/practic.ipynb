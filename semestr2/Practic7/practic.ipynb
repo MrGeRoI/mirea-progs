{
 "cells": [
  {
   "attachments": {},
   "cell_type": "markdown",
   "metadata": {},
   "source": [
    "1. Генерация всех размещений с повторениями из n элементов {1,2,...,n} по k"
   ]
  },
  {
   "cell_type": "code",
   "execution_count": 1,
   "metadata": {},
   "outputs": [
    {
     "name": "stdout",
     "output_type": "stream",
     "text": [
      "[1, 1, 1, 1, 1]\n",
      "[1, 1, 1, 1, 2]\n",
      "[1, 1, 1, 2, 1]\n",
      "[1, 1, 1, 2, 2]\n",
      "[1, 1, 2, 1, 1]\n",
      "[1, 1, 2, 1, 2]\n",
      "[1, 1, 2, 2, 1]\n",
      "[1, 1, 2, 2, 2]\n",
      "[1, 2, 1, 1, 1]\n",
      "[1, 2, 1, 1, 2]\n",
      "[1, 2, 1, 2, 1]\n",
      "[1, 2, 1, 2, 2]\n",
      "[1, 2, 2, 1, 1]\n",
      "[1, 2, 2, 1, 2]\n",
      "[1, 2, 2, 2, 1]\n",
      "[1, 2, 2, 2, 2]\n",
      "[2, 1, 1, 1, 1]\n",
      "[2, 1, 1, 1, 2]\n",
      "[2, 1, 1, 2, 1]\n",
      "[2, 1, 1, 2, 2]\n",
      "[2, 1, 2, 1, 1]\n",
      "[2, 1, 2, 1, 2]\n",
      "[2, 1, 2, 2, 1]\n",
      "[2, 1, 2, 2, 2]\n",
      "[2, 2, 1, 1, 1]\n",
      "[2, 2, 1, 1, 2]\n",
      "[2, 2, 1, 2, 1]\n",
      "[2, 2, 1, 2, 2]\n",
      "[2, 2, 2, 1, 1]\n",
      "[2, 2, 2, 1, 2]\n",
      "[2, 2, 2, 2, 1]\n",
      "[2, 2, 2, 2, 2]\n"
     ]
    }
   ],
   "source": [
    "function next_repit_placement!(p::AbstractVector{T}, n::T) where T<:Integer\n",
    "\ti = findlast(x->(x < n), p) # используется встроенная функция высшего порядка\n",
    "\t# i - это последнийпервый с конца индекс: x[i] < n, или - nothing, если такого индекса нет (p == [n,n,...,n])\n",
    "\n",
    "\tisnothing(i) && (return nothing)\n",
    "\tp[i] += 1\n",
    "\tp[i+1:end] .= 1 # - устанавливаются минимально-возможные значения\n",
    "\t\n",
    "\treturn p\n",
    "end\n",
    "\n",
    "n = 2; k = 5\n",
    "p = ones(Int,k)\n",
    "while !isnothing(p)\n",
    "\tprintln(p)\n",
    "\tp = next_repit_placement!(p,n)\n",
    "end"
   ]
  },
  {
   "cell_type": "code",
   "execution_count": 2,
   "metadata": {},
   "outputs": [
    {
     "name": "stdout",
     "output_type": "stream",
     "text": [
      "[0, 0, 0]\n",
      "[1, 0, 0]\n",
      "[2, 0, 0]\n",
      "[3, 0, 0]\n",
      "[4, 0, 0]\n",
      "[0, 1, 0]\n",
      "[1, 1, 0]\n",
      "[2, 1, 0]\n",
      "[3, 1, 0]\n",
      "[4, 1, 0]\n",
      "[0, 2, 0]\n",
      "[1, 2, 0]\n",
      "[2, 2, 0]\n",
      "[3, 2, 0]\n",
      "[4, 2, 0]\n",
      "[0, 3, 0]\n",
      "[1, 3, 0]\n",
      "[2, 3, 0]\n",
      "[3, 3, 0]\n",
      "[4, 3, 0]\n",
      "[0, 4, 0]\n",
      "[1, 4, 0]\n",
      "[2, 4, 0]\n",
      "[3, 4, 0]\n",
      "[4, 4, 0]\n",
      "[0, 0, 1]\n",
      "[1, 0, 1]\n",
      "[2, 0, 1]\n",
      "[3, 0, 1]\n",
      "[4, 0, 1]\n",
      "[0, 1, 1]\n",
      "[1, 1, 1]\n",
      "[2, 1, 1]\n",
      "[3, 1, 1]\n",
      "[4, 1, 1]\n",
      "[0, 2, 1]\n",
      "[1, 2, 1]\n",
      "[2, 2, 1]\n",
      "[3, 2, 1]\n",
      "[4, 2, 1]\n",
      "[0, 3, 1]\n",
      "[1, 3, 1]\n",
      "[2, 3, 1]\n",
      "[3, 3, 1]\n",
      "[4, 3, 1]\n",
      "[0, 4, 1]\n",
      "[1, 4, 1]\n",
      "[2, 4, 1]\n",
      "[3, 4, 1]\n",
      "[4, 4, 1]\n",
      "[0, 0, 2]\n",
      "[1, 0, 2]\n",
      "[2, 0, 2]\n",
      "[3, 0, 2]\n",
      "[4, 0, 2]\n",
      "[0, 1, 2]\n",
      "[1, 1, 2]\n",
      "[2, 1, 2]\n",
      "[3, 1, 2]\n",
      "[4, 1, 2]\n",
      "[0, 2, 2]\n",
      "[1, 2, 2]\n",
      "[2, 2, 2]\n",
      "[3, 2, 2]\n",
      "[4, 2, 2]\n",
      "[0, 3, 2]\n",
      "[1, 3, 2]\n",
      "[2, 3, 2]\n",
      "[3, 3, 2]\n",
      "[4, 3, 2]\n",
      "[0, 4, 2]\n",
      "[1, 4, 2]\n",
      "[2, 4, 2]\n",
      "[3, 4, 2]\n",
      "[4, 4, 2]\n",
      "[0, 0, 3]\n",
      "[1, 0, 3]\n",
      "[2, 0, 3]\n",
      "[3, 0, 3]\n",
      "[4, 0, 3]\n",
      "[0, 1, 3]\n",
      "[1, 1, 3]\n",
      "[2, 1, 3]\n",
      "[3, 1, 3]\n",
      "[4, 1, 3"
     ]
    },
    {
     "name": "stdout",
     "output_type": "stream",
     "text": [
      "]\n",
      "[0, 2, 3]\n",
      "[1, 2, 3]\n",
      "[2, 2, 3]\n",
      "[3, 2, 3]\n",
      "[4, 2, 3]\n",
      "[0, 3, 3]\n",
      "[1, 3, 3]\n",
      "[2, 3, 3]\n",
      "[3, 3, 3]\n",
      "[4, 3, 3]\n",
      "[0, 4, 3]\n",
      "[1, 4, 3]\n",
      "[2, 4, 3]\n",
      "[3, 4, 3]\n",
      "[4, 4, 3]\n",
      "[0, 0, 4]\n",
      "[1, 0, 4]\n",
      "[2, 0, 4]\n",
      "[3, 0, 4]\n",
      "[4, 0, 4]\n",
      "[0, 1, 4]\n",
      "[1, 1, 4]\n",
      "[2, 1, 4]\n",
      "[3, 1, 4]\n",
      "[4, 1, 4]\n",
      "[0, 2, 4]\n",
      "[1, 2, 4]\n",
      "[2, 2, 4]\n",
      "[3, 2, 4]\n",
      "[4, 2, 4]\n",
      "[0, 3, 4]\n",
      "[1, 3, 4]\n",
      "[2, 3, 4]\n",
      "[3, 3, 4]\n",
      "[4, 3, 4]\n",
      "[0, 4, 4]\n",
      "[1, 4, 4]\n",
      "[2, 4, 4]\n",
      "[3, 4, 4]\n",
      "[4, 4, 4]\n"
     ]
    }
   ],
   "source": [
    "function show_placements(k::T,n::T) where T<:Integer\n",
    "\tfor i in 0:n^k-1\n",
    "\t\tdigits(i; base=n, pad=k) |> println\n",
    "\tend\n",
    "end\n",
    "\n",
    "show_placements(3,5)"
   ]
  },
  {
   "attachments": {},
   "cell_type": "markdown",
   "metadata": {},
   "source": [
    "2. Генерация вcех перестановок 1,2,...,n"
   ]
  },
  {
   "cell_type": "code",
   "execution_count": 3,
   "metadata": {},
   "outputs": [
    {
     "name": "stdout",
     "output_type": "stream",
     "text": [
      "[1, 2, 3, 4]"
     ]
    },
    {
     "name": "stdout",
     "output_type": "stream",
     "text": [
      "\n",
      "[1, 2, 4, 3]\n",
      "[1, 3, 2, 4]\n",
      "[1, 3, 4, 2]\n",
      "[1, 4, 2, 3]\n",
      "[1, 4, 3, 2]\n",
      "[2, 1, 3, 4]\n",
      "[2, 1, 4, 3]\n",
      "[2, 3, 1, 4]\n",
      "[2, 3, 4, 1]\n",
      "[2, 4, 1, 3]\n",
      "[2, 4, 3, 1]\n",
      "[3, 1, 2, 4]\n",
      "[3, 1, 4, 2]\n",
      "[3, 2, 1, 4]\n",
      "[3, 2, 4, 1]\n",
      "[3, 4, 1, 2]\n",
      "[3, 4, 2, 1]\n",
      "[4, 1, 2, 3]\n",
      "[4, 1, 3, 2]\n",
      "[4, 2, 1, 3]\n",
      "[4, 2, 3, 1]\n",
      "[4, 3, 1, 2]\n",
      "[4, 3, 2, 1]\n"
     ]
    }
   ],
   "source": [
    "function next_permute!(p::AbstractVector)\n",
    "    n = length(p)\n",
    "    k = 0 # или firstindex(p)-1\n",
    "    for i in reverse(1:n-1) # или reverse(firstindex(p):lastindex(p)-1)\n",
    "        if p[i] < p[i+1]\n",
    "            k=i\n",
    "            break\n",
    "        end\n",
    "    end\n",
    "    k == firstindex(p)-1 &&  return nothing # т.е. p[begin]>p[begin+1]>...>p[end]\n",
    " \n",
    "    #УТВ: p[k] < p[k+1] > p[k+2] >...> p[end]\n",
    "    i=k+1\n",
    "    while i<n && p[i+1]>p[k] # i < lastindex(p) && p[i+1] > p[k]\n",
    "        i += 1\n",
    "    end\n",
    "    #УТВ: p[i] - наименьшее из всех p[k+1:end], большее p[k]\n",
    "    p[k], p[i] = p[i], p[k]\n",
    "    #УТВ: по-прежнему p[k+1]>...>p[end]\n",
    "    reverse!(@view p[k+1:end])\n",
    "    return p\n",
    "end\n",
    "\n",
    "#Тестирование:\n",
    "p=[1,2,3,4]\n",
    "while !isnothing(p)\n",
    "\tprintln(p)\n",
    "    p = next_permute!(p)\n",
    "end"
   ]
  },
  {
   "attachments": {},
   "cell_type": "markdown",
   "metadata": {},
   "source": [
    "3. Генерация всех всех подмножеств n-элементного множества {1,2,...,n}"
   ]
  },
  {
   "cell_type": "code",
   "execution_count": 4,
   "metadata": {},
   "outputs": [
    {
     "name": "stdout",
     "output_type": "stream",
     "text": [
      "Bool[0, 0, 0, 0, 0]\n",
      "Int64[]\n"
     ]
    },
    {
     "name": "stdout",
     "output_type": "stream",
     "text": [
      "Bool[0, 0, 0, 0, 1]\n",
      "[5]\n",
      "Bool[0, 0, 0, 1, 0]\n",
      "[4]\n",
      "Bool[0, 0, 0, 1, 1]\n",
      "[4, 5]\n",
      "Bool[0, 0, 1, 0, 0]\n",
      "[3]\n",
      "Bool[0, 0, 1, 0, 1]\n",
      "[3, 5]\n",
      "Bool[0, 0, 1, 1, 0]\n",
      "[3, 4]\n",
      "Bool[0, 0, 1, 1, 1]\n",
      "[3, 4, 5]\n",
      "Bool[0, 1, 0, 0, 0]\n",
      "[2]\n",
      "Bool[0, 1, 0, 0, 1]\n",
      "[2, 5]\n",
      "Bool[0, 1, 0, 1, 0]\n",
      "[2, 4]\n",
      "Bool[0, 1, 0, 1, 1]\n",
      "[2, 4, 5]\n",
      "Bool[0, 1, 1, 0, 0]\n",
      "[2, 3]\n",
      "Bool[0, 1, 1, 0, 1]\n",
      "[2, 3, 5]\n",
      "Bool[0, 1, 1, 1, 0]\n",
      "[2, 3, 4]\n",
      "Bool[0, 1, 1, 1, 1]\n",
      "[2, 3, 4, 5]\n",
      "Bool[1, 0, 0, 0, 0]\n",
      "[1]\n",
      "Bool[1, 0, 0, 0, 1]\n",
      "[1, 5]\n",
      "Bool[1, 0, 0, 1, 0]\n",
      "[1, 4]\n",
      "Bool[1, 0, 0, 1, 1]\n",
      "[1, 4, 5]\n",
      "Bool[1, 0, 1, 0, 0]\n",
      "[1, 3]\n",
      "Bool[1, 0, 1, 0, 1]\n",
      "[1, 3, 5]\n",
      "Bool[1, 0, 1, 1, 0]\n",
      "[1, 3, 4]\n",
      "Bool[1, 0, 1, 1, 1]\n",
      "[1, 3, 4, 5]\n",
      "Bool[1, 1, 0, 0, 0]\n",
      "[1, 2]\n",
      "Bool[1, 1, 0, 0, 1]\n",
      "[1, 2, 5]\n",
      "Bool[1, 1, 0, 1, 0]\n",
      "[1, 2, 4]\n",
      "Bool[1, 1, 0, 1, 1]\n",
      "[1, 2, 4, 5]\n",
      "Bool[1, 1, 1, 0, 0]\n",
      "[1, 2, 3]\n",
      "Bool[1, 1, 1, 0, 1]\n",
      "[1, 2, 3, 5]\n",
      "Bool[1, 1, 1, 1, 0]\n",
      "[1, 2, 3, 4]\n",
      "Bool[1, 1, 1, 1, 1]\n",
      "[1, 2, 3, 4, 5]\n"
     ]
    }
   ],
   "source": [
    "function next_indicator!(indicator::AbstractVector{Bool})\n",
    "    i = findlast(x->(x==0), indicator)\n",
    "\t\n",
    "    isnothing(i) && return nothing\n",
    "    indicator[i] = 1\n",
    "    indicator[i+1:end] .= 0\n",
    "\n",
    "    return indicator \n",
    "end\n",
    "\n",
    "n=5; A=1:n\n",
    "indicator = zeros(Bool, n)\n",
    "while !isnothing(indicator)\n",
    "\tprintln(indicator)\n",
    "\n",
    "    A[findall(indicator)] |> println\n",
    "    indicator = next_indicator!(indicator)\n",
    "end"
   ]
  },
  {
   "attachments": {},
   "cell_type": "markdown",
   "metadata": {},
   "source": [
    "4. Генерация всех k-элементных подмножеств n-элементного множества {1, 2, ..., n}"
   ]
  },
  {
   "cell_type": "code",
   "execution_count": 5,
   "metadata": {},
   "outputs": [
    {
     "name": "stdout",
     "output_type": "stream",
     "text": [
      "[4, 5, 6]\n",
      "[3, 6]\n",
      "[3, 5, 6]\n",
      "[3, 4, 6]\n",
      "[3, 4, 5, 6]\n",
      "[2, 6]\n",
      "[2, 5, 6]\n",
      "[2, 4, 6]\n",
      "[2, 4, 5, 6]\n",
      "[2, 3, 6]\n",
      "[2, 3, 5, 6]\n",
      "[2, 3, 4, 6]\n",
      "[2, 3, 4, 5, 6]\n",
      "[1, 6]\n",
      "[1, 5, 6]\n",
      "[1, 4, 6]\n",
      "[1, 4, 5, 6]\n",
      "[1, 3, 6]\n",
      "[1, 3, 5, 6]\n",
      "[1, 3, 4, 6]\n",
      "[1, 3, 4, 5, 6]\n",
      "[1, 2, 6]\n",
      "[1, 2, 5, 6]\n",
      "[1, 2, 4, 6]\n",
      "[1, 2, 4, 5, 6]\n",
      "[1, 2, 3, 6]\n",
      "[1, 2, 3, 5, 6]\n",
      "[1, 2, 3, 4, 6]\n",
      "[1, 2, 3, 4, 5, 6]\n"
     ]
    }
   ],
   "source": [
    "function next_indicator!(indicator::AbstractVector{Bool}, k)\n",
    "    # в indicator - ровно k единц, остальные - нули, но это не проверяется! (фактически k - не используется)\n",
    "    i=lastindex(indicator)\n",
    "    while indicator[i]==0\n",
    "        i-=1\n",
    "    end\n",
    "    #УТВ: indic[i]==1 и все справа - нули\n",
    "    m=0; \n",
    "    while i >= firstindex(indicator) && indicator[i]==1 \n",
    "        m+=1\n",
    "        i-=1\n",
    "    end\n",
    "    if i < firstindex(indicator)\n",
    "        return nothing\n",
    "    end\n",
    "    #УТВ: indicator[i]==0 и справа m>0 единиц, причем indicator[i+1]==1\n",
    "    indicator[i]=1\n",
    "    indicator[i+1:i+m-1] .= 0\n",
    "    indicator[i+m:end] .= 1\n",
    "    return indicator \n",
    "end\n",
    "\n",
    "n=6; k=3; A=1:n\n",
    "indicator = [zeros(Bool,n-k); ones(Bool,k)]\n",
    "while !isnothing(indicator)\n",
    "\tA[findall(indicator)] |> println\n",
    "    indicator = next_indicator!(indicator, k)\n",
    "end"
   ]
  },
  {
   "attachments": {},
   "cell_type": "markdown",
   "metadata": {},
   "source": [
    "5. Генерация всех разбиений натурального числа на положительные слагаемые\n",
    "\n",
    "\tДолжно быть length(s) == n, где n - заданное число\n",
    "\t\t\n",
    "\t\ts[i-1]>=s[i] for all i in (2,3,...,k), \n",
    "\n",
    "\tгде k - число элементов заданного разбиения, представленного вектором s, т.е. число ненулевых элементов в начале вектора s."
   ]
  },
  {
   "cell_type": "code",
   "execution_count": 6,
   "metadata": {},
   "outputs": [
    {
     "name": "stdout",
     "output_type": "stream",
     "text": [
      "[1, 1, 1, 1, 1]\n",
      "[1, 1, 1, 1, 1]"
     ]
    },
    {
     "name": "stdout",
     "output_type": "stream",
     "text": [
      "\n",
      "[2, 1, 1, 1, 1]\n",
      "[2, 1, 1, 1]\n",
      "[2, 2, 1, 1, 1]\n",
      "[2, 2, 1]\n",
      "[3, 1, 1, 1, 1]\n",
      "[3, 1, 1]\n",
      "[3, 2, 1, 1, 1]\n",
      "[3, 2]\n",
      "[4, 1, 1, 1, 1]\n",
      "[4, 1]\n",
      "[5, 1, 1, 1, 1]\n",
      "[5]"
     ]
    },
    {
     "name": "stdout",
     "output_type": "stream",
     "text": [
      "\n"
     ]
    },
    {
     "ename": "MethodError",
     "evalue": "MethodError: no method matching iterate(::Nothing)\nClosest candidates are:\n  iterate(!Matched::Union{LinRange, StepRangeLen}) at range.jl:872\n  iterate(!Matched::Union{LinRange, StepRangeLen}, !Matched::Integer) at range.jl:872\n  iterate(!Matched::T) where T<:Union{Base.KeySet{<:Any, <:Dict}, Base.ValueIterator{<:Dict}} at dict.jl:712\n  ...",
     "output_type": "error",
     "traceback": [
      "MethodError: no method matching iterate(::Nothing)\n",
      "Closest candidates are:\n",
      "  iterate(!Matched::Union{LinRange, StepRangeLen}) at range.jl:872\n",
      "  iterate(!Matched::Union{LinRange, StepRangeLen}, !Matched::Integer) at range.jl:872\n",
      "  iterate(!Matched::T) where T<:Union{Base.KeySet{<:Any, <:Dict}, Base.ValueIterator{<:Dict}} at dict.jl:712\n",
      "  ...\n",
      "\n",
      "Stacktrace:\n",
      " [1] indexed_iterate(I::Nothing, i::Int64)\n",
      "   @ Base .\\tuple.jl:91\n",
      " [2] top-level scope\n",
      "   @ d:\\Code\\github\\mirea-progs\\semestr2\\Practic7\\practic.ipynb:21"
     ]
    }
   ],
   "source": [
    "function next_split!(s::AbstractVector{T}, k) where T <: Integer\n",
    "    k == 1 && return nothing\n",
    "    i = k-1 # - это потому что s[k] увеличивать нельзя\n",
    "    while i > 1 && s[i-1]==s[i]\n",
    "        i -= 1\n",
    "    end\n",
    "    #УТВ: i == 1 или i - это наименьший индекс: s[i-1] > s[i] и i < k\n",
    "    s[i] += 1\n",
    "    #Теперь требуется s[i+1]... - уменьшить минимально-возможным способом (в лексикографическом смысле) \n",
    "    r = sum(@view(s[i+1:k]))\n",
    "    k = i+r-1 # - это с учетом s[i] += 1\n",
    "    s[i+1:n-k] .= 1\n",
    "    return s, k\n",
    "end\n",
    "\n",
    "# Тестирование:\n",
    "n=5; s=ones(Int, n); k=n\n",
    "println(s)\n",
    "while !isnothing(s)\n",
    "    println(s[1:k])\n",
    "    s, k = next_split!(s, k)\n",
    "    println(s)\n",
    "end"
   ]
  },
  {
   "attachments": {},
   "cell_type": "markdown",
   "metadata": {},
   "source": [
    "6. Специальные пользовательские типы и итераторы для генерации рассматриваемых комбинаторных объектов"
   ]
  },
  {
   "cell_type": "code",
   "execution_count": 7,
   "metadata": {},
   "outputs": [],
   "source": [
    "abstract type AbstractCombinObject\n",
    "    # value::Vector{Int} - это поле предполагается у всех конкретных типов, наследующих от данного типа\n",
    "end\n",
    "\n",
    "Base.iterate(obj::AbstractCombinObject) = (get(obj), nothing)\n",
    "Base.iterate(obj::AbstractCombinObject, state) = \n",
    "    if isnothing(next!(obj)) # == false\n",
    "        nothing\n",
    "    else\n",
    "        (get(obj), nothing)\n",
    "    end"
   ]
  },
  {
   "attachments": {},
   "cell_type": "markdown",
   "metadata": {},
   "source": [
    "6.1. Размещения с повторениями"
   ]
  },
  {
   "cell_type": "code",
   "execution_count": 8,
   "metadata": {},
   "outputs": [
    {
     "name": "stdout",
     "output_type": "stream",
     "text": [
      "[1, 1, 1]\n",
      "[1, 1, 2]\n",
      "[1, 2, 1]\n",
      "[1, 2, 2]\n",
      "[2, 1, 1]\n",
      "[2, 1, 2]\n",
      "[2, 2, 1]\n",
      "[2, 2, 2]\n"
     ]
    }
   ],
   "source": [
    "struct RepitPlacement{N,K} <: AbstractCombinObject\n",
    "    value::Vector{Int}\n",
    "    RepitPlacement{N,K}() where {N, K} = new(ones(Int, K))\n",
    "end\n",
    "\n",
    "Base.get(p::RepitPlacement) = p.value\n",
    "next!(p::RepitPlacement{N,K}) where {N, K} = next_repit_placement!(p.value, N)\n",
    "\n",
    "# Тестирование:\n",
    "for a in RepitPlacement{2,3}() \n",
    "    println(a)\n",
    "end\n",
    "# такая запись стала возможной благодаря определению функции iterate(::AbstractCombinObject)"
   ]
  },
  {
   "attachments": {},
   "cell_type": "markdown",
   "metadata": {},
   "source": [
    "6.2. Перестановки"
   ]
  },
  {
   "cell_type": "code",
   "execution_count": 9,
   "metadata": {},
   "outputs": [
    {
     "name": "stdout",
     "output_type": "stream",
     "text": [
      "[1, 2, 3, 4]\n",
      "[1, 2, 4, 3]\n",
      "[1, 3, 2, 4]\n",
      "[1, 3, 4, 2]\n",
      "[1, 4, 2, 3]\n",
      "[1, 4, 3, 2]\n",
      "[2, 1, 3, 4]\n",
      "[2, 1, 4, 3]\n",
      "[2, 3, 1, 4]\n",
      "[2, 3, 4, 1]\n",
      "[2, 4, 1, 3]\n",
      "[2, 4, 3, 1]\n",
      "[3, 1, 2, 4]\n",
      "[3, 1, 4, 2]\n",
      "[3, 2, 1, 4]\n",
      "[3, 2, 4, 1]\n",
      "[3, 4, 1, 2]\n",
      "[3, 4, 2, 1]\n",
      "[4, 1, 2, 3]\n",
      "[4, 1, 3, 2]\n",
      "[4, 2, 1, 3]\n",
      "[4, 2, 3, 1]\n",
      "[4, 3, 1, 2]\n",
      "[4, 3, 2, 1]\n"
     ]
    }
   ],
   "source": [
    "struct Permute{N} <: AbstractCombinObject\n",
    "    value::Vector{Int}\n",
    "    Permute{N}() where N = new(collect(1:N))\n",
    "end\n",
    "\n",
    "Base.get(obj::Permute) = obj.value\n",
    "next!(permute::Permute) = next_permute!(permute.value)\n",
    "\n",
    "# Тест:\n",
    "for p in Permute{4}()\n",
    "    println(p)\n",
    "end"
   ]
  },
  {
   "attachments": {},
   "cell_type": "markdown",
   "metadata": {},
   "source": [
    "6.3. Все подмножества N-элементного множества"
   ]
  },
  {
   "cell_type": "code",
   "execution_count": 10,
   "metadata": {},
   "outputs": [
    {
     "name": "stdout",
     "output_type": "stream",
     "text": [
      "Bool[0, 0, 0, 0]\n",
      "Bool[0, 0, 0, 1]\n",
      "Bool[0, 0, 1, 0]\n",
      "Bool[0, 0, 1, 1]\n",
      "Bool[0, 1, 0, 0]\n",
      "Bool[0, 1, 0, 1]\n",
      "Bool[0, 1, 1, 0]\n",
      "Bool[0, 1, 1, 1]\n",
      "Bool[1, 0, 0, 0]\n",
      "Bool[1, 0, 0, 1]\n",
      "Bool[1, 0, 1, 0]\n",
      "Bool[1, 0, 1, 1]\n",
      "Bool[1, 1, 0, 0]\n",
      "Bool[1, 1, 0, 1]\n",
      "Bool[1, 1, 1, 0]\n",
      "Bool[1, 1, 1, 1]\n"
     ]
    }
   ],
   "source": [
    "struct Subsets{N} <: AbstractCombinObject\n",
    "    indicator::Vector{Bool}\n",
    "    Subsets{N}() where N = new(zeros(Bool, N))\n",
    "end\n",
    "\n",
    "Base.get(sub::Subsets) = sub.indicator\n",
    "next!(sub::Subsets) = next_indicator!(sub.indicator) \n",
    "\n",
    "#Тест:\n",
    "for sub in Subsets{4}()\n",
    "    println(sub)\n",
    "end"
   ]
  },
  {
   "attachments": {},
   "cell_type": "markdown",
   "metadata": {},
   "source": [
    "6.4. k-элементные подмоножества n-элементного множества"
   ]
  },
  {
   "cell_type": "code",
   "execution_count": 11,
   "metadata": {},
   "outputs": [
    {
     "name": "stdout",
     "output_type": "stream",
     "text": [
      "Bool[0, 0, 0, 1, 1, 1]\n",
      "Bool[0, 0, 1, 0, 0, 1]\n",
      "Bool[0, 0, 1, 0, 1, 1]\n",
      "Bool[0, 0, 1, 1, 0, 1]\n",
      "Bool[0, 0, 1, 1, 1, 1]\n",
      "Bool[0, 1, 0, 0, 0, 1]\n",
      "Bool[0, 1, 0, 0, 1, 1]\n",
      "Bool[0, 1, 0, 1, 0, 1]\n",
      "Bool[0, 1, 0, 1, 1, 1]\n",
      "Bool[0, 1, 1, 0, 0, 1]\n",
      "Bool[0, 1, 1, 0, 1, 1]\n",
      "Bool[0, 1, 1, 1, 0, 1]\n",
      "Bool[0, 1, 1, 1, 1, 1]\n",
      "Bool[1, 0, 0, 0, 0, 1]\n",
      "Bool[1, 0, 0, 0, 1, 1]\n",
      "Bool[1, 0, 0, 1, 0, 1]\n",
      "Bool[1, 0, 0, 1, 1, 1]\n",
      "Bool[1, 0, 1, 0, 0, 1]\n",
      "Bool[1, 0, 1, 0, 1, 1]\n",
      "Bool[1, 0, 1, 1, 0, 1]\n",
      "Bool[1, 0, 1, 1, 1, 1]\n",
      "Bool[1, 1, 0, 0, 0, 1]\n",
      "Bool[1, 1, 0, 0, 1, 1]\n",
      "Bool[1, 1, 0, 1, 0, 1]\n",
      "Bool[1, 1, 0, 1, 1, 1]\n",
      "Bool[1, 1, 1, 0, 0, 1]\n",
      "Bool[1, 1, 1, 0, 1, 1]\n",
      "Bool[1, 1, 1, 1, 0, 1]\n",
      "Bool[1, 1, 1, 1, 1, 1]\n"
     ]
    }
   ],
   "source": [
    "struct KSubsets{M,K} <: AbstractCombinObject\n",
    "    indicator::Vector{Bool}\n",
    "    KSubsets{M, K}() where{M, K} = new([zeros(Bool, length(M)-K); ones(Bool, K)])\n",
    "end\n",
    "\n",
    "Base.get(sub::KSubsets) = sub.indicator\n",
    "next!(sub::KSubsets{M, K}) where{M, K} = next_indicator!(sub.indicator, K) \n",
    "\n",
    "#Тест:\n",
    "for sub in KSubsets{1:6, 3}()\n",
    "    sub |> println\n",
    "end"
   ]
  },
  {
   "attachments": {},
   "cell_type": "markdown",
   "metadata": {},
   "source": [
    "6.5. Разбиения"
   ]
  },
  {
   "cell_type": "code",
   "execution_count": 12,
   "metadata": {},
   "outputs": [
    {
     "name": "stdout",
     "output_type": "stream",
     "text": [
      "[1, 2, 3, 4, 5]\n"
     ]
    },
    {
     "ename": "BoundsError",
     "evalue": "BoundsError: attempt to access 5-element Vector{Int64} at index [1:8]",
     "output_type": "error",
     "traceback": [
      "BoundsError: attempt to access 5-element Vector{Int64} at index [1:8]\n",
      "\n",
      "Stacktrace:\n",
      " [1] throw_boundserror(A::Vector{Int64}, I::Tuple{UnitRange{Int64}})\n",
      "   @ Base .\\abstractarray.jl:703\n",
      " [2] checkbounds\n",
      "   @ .\\abstractarray.jl:668 [inlined]\n",
      " [3] getindex\n",
      "   @ .\\array.jl:930 [inlined]\n",
      " [4] get\n",
      "   @ d:\\Code\\github\\mirea-progs\\semestr2\\Practic7\\practic.ipynb:7 [inlined]\n",
      " [5] next!(nsplit::NSplit{5})\n",
      "   @ Main d:\\Code\\github\\mirea-progs\\semestr2\\Practic7\\practic.ipynb:10\n",
      " [6] iterate\n",
      "   @ d:\\Code\\github\\mirea-progs\\semestr2\\Practic7\\practic.ipynb:6 [inlined]\n",
      " [7] top-level scope\n",
      "   @ d:\\Code\\github\\mirea-progs\\semestr2\\Practic7\\practic.ipynb:16"
     ]
    }
   ],
   "source": [
    "mutable struct NSplit{N} <: AbstractCombinObject\n",
    "    value::Vector{Int}\n",
    "    num_terms::Int # число слагаемых (это число мы обозначали - k)\n",
    "    NSplit{N}() where N = new(collect(1:N), N)\n",
    "end\n",
    "\n",
    "Base.get(nsplit::NSplit) = nsplit.value[begin:nsplit.num_terms]\n",
    "function next!(nsplit::NSplit) \n",
    "    nsplit.value, nsplit.num_terms = next_split!(nsplit.value, nsplit.num_terms)\n",
    "    get(nsplit)\n",
    "end\n",
    "\n",
    "# Тест:\n",
    "for s in NSplit{5}()\n",
    "    println(s)\n",
    "end"
   ]
  },
  {
   "attachments": {},
   "cell_type": "markdown",
   "metadata": {},
   "source": [
    "Александр Кочержук:\n",
    "7 практика алгосы - помимо 6 алгоритмов в пдф-нике, сделать следующие задания\n",
    "\n",
    "1) а)является ли граф(ориентированный) сильно связным\n",
    "\n",
    "б)является ли этот же граф, если убрать ориентации, связным\n",
    "\n",
    "8 практика - в неориентированным графе найти все компоненты связности (гуглить, чтобы понять)\n",
    "\n",
    "9 практика - проверить, является ли заданный неориентированный граф двудольным\n",
    "+ 7я лекция?+-"
   ]
  },
  {
   "attachments": {},
   "cell_type": "markdown",
   "metadata": {},
   "source": [
    "7. Алгоритмы обхода графа \"поиск вглубину\" и \"поиск в ширину\""
   ]
  },
  {
   "cell_type": "code",
   "execution_count": 13,
   "metadata": {},
   "outputs": [
    {
     "data": {
      "text/plain": [
       "bfs (generic function with 2 methods)"
      ]
     },
     "metadata": {},
     "output_type": "display_data"
    }
   ],
   "source": [
    "Graph{I <: Integer} = Dict{I, Vector{I}}\n",
    "\n",
    "function dfs(func::Function, graph::Graph{I}, vstart::I)::Nothing where I <: Integer\n",
    "\tstack = [vstart]\n",
    "\tmark = zeros(Bool, length(graph))\n",
    "\tmark[vstart] = true\n",
    "\twhile !isempty(stack)\n",
    "\t\tv = pop!(stack)\n",
    "\t\tfor u in graph[v]\n",
    "\t\t\tif !mark[u]\n",
    "\t\t\t\tfunc(u)\n",
    "\t\t\t\tmark[u] = true\n",
    "\t\t\t\tpush!(stack,u)\n",
    "\t\t\tend\n",
    "\t\tend\n",
    "\tend\n",
    "\treturn nothing\n",
    "end\n",
    "\n",
    "function bfs(func::Function, graph::Graph{I}, vstart::I)::Nothing where I <: Integer\n",
    "\tqueue = [vstart]\n",
    "\tmark = zeros(Bool, length(graph))\n",
    "\tmark[vstart] = true\n",
    "\twhile !isempty(queue)\n",
    "\t\tv = popfirst!(queue)\n",
    "\t\tfor u in graph[v]\n",
    "\t\t\tif !mark[u]\n",
    "\t\t\t\tfunc(u)\n",
    "\t\t\t\tmark[u] = true\n",
    "\t\t\t\tpush!(queue,u)\n",
    "\t\t\tend\n",
    "\t\tend\n",
    "\tend\n",
    "\treturn nothing\n",
    "end\n",
    "\n",
    "function dfs(graph::Graph{I}, vstart::I)::Vector{Bool} where I <: Integer\n",
    "\tstack = [vstart]\n",
    "\tmark = zeros(Bool, length(graph)) # length(graph) = N = число всех вершин графа\n",
    "\tmark[vstart] = true\n",
    "\twhile !isempty(stack)\n",
    "\t\tv = pop!(stack)\n",
    "\t\t# обработка вершины v\n",
    "\t\tfor u in graph[v]\n",
    "\t\t\tif !mark[u]\n",
    "\t\t\t\tmark[u] = true\n",
    "\t\t\t\tpush!(stack,u)\n",
    "\t\t\tend\n",
    "\t\tend\n",
    "\tend\n",
    "\treturn mark\n",
    "end\n",
    "\n",
    "function bfs(graph::Graph{I}, vstart::I)::Vector{Bool} where I <: Integer\n",
    "\tqueue = [vstart]\n",
    "\tmark = zeros(Bool, length(graph)) # length(graph) = N = число всех вершин графа\n",
    "\tmark[vstart] = true\n",
    "\twhile !isempty(queue)\n",
    "\t\tv = popfirst!(queue)\n",
    "\t\t# обработка вершины v\n",
    "\t\tfor u in graph[v]\n",
    "\t\t\tif !mark[u]\n",
    "\t\t\t\tmark[u] = true\n",
    "\t\t\t\tpush!(queue,u)\n",
    "\t\t\tend\n",
    "\t\tend\n",
    "\tend\n",
    "\treturn mark\n",
    "end"
   ]
  },
  {
   "attachments": {},
   "cell_type": "markdown",
   "metadata": {},
   "source": [
    "7.а)является ли ориентированный граф связным?"
   ]
  },
  {
   "cell_type": "code",
   "execution_count": 20,
   "metadata": {},
   "outputs": [
    {
     "data": {
      "text/plain": [
       "isconnected (generic function with 1 method)"
      ]
     },
     "metadata": {},
     "output_type": "display_data"
    }
   ],
   "source": [
    "function isconnected(graph::Graph{I})::Bool where I <: Integer\n",
    "\tqueue = [keys(graph)[begin]]\n",
    "\tcount = 0\n",
    "\tmark = zeros(Bool, length(graph))\n",
    "\tmark[vstart] = true\n",
    "\twhile !isempty(queue)\n",
    "\t\tv = popfirst!(queue)\n",
    "\t\tfor u in graph[v]\n",
    "\t\t\tif !mark[u]\n",
    "\t\t\t\tmark[u] = true\n",
    "\t\t\t\tpush!(queue,u)\n",
    "\t\t\t\tcount+=1\n",
    "\t\t\tend\n",
    "\t\tend\n",
    "\tend\n",
    "\treturn count == length(graph)\n",
    "end"
   ]
  },
  {
   "attachments": {},
   "cell_type": "markdown",
   "metadata": {},
   "source": [
    "7.б) является ли этот же граф, если убрать ориентации, связным?"
   ]
  },
  {
   "cell_type": "code",
   "execution_count": 21,
   "metadata": {},
   "outputs": [
    {
     "data": {
      "text/plain": [
       "isconnected_ignore (generic function with 1 method)"
      ]
     },
     "metadata": {},
     "output_type": "display_data"
    }
   ],
   "source": [
    "function isconnected_ignore(graph::Graph{I})::Bool where I <: Integer\n",
    "\tqueue = [keys(graph)[begin]]\n",
    "\tcount = 0\n",
    "\tmark = zeros(Bool, length(graph))\n",
    "\tmark[vstart] = true\n",
    "\twhile !isempty(queue)\n",
    "\t\tv = popfirst!(queue)\n",
    "\t\tfor u in graph[v] || v in graph[u]\n",
    "\t\t\tif !mark[u]\n",
    "\t\t\t\tmark[u] = true\n",
    "\t\t\t\tpush!(queue,u)\n",
    "\t\t\t\tcount+=1\n",
    "\t\t\tend\n",
    "\t\tend\n",
    "\tend\n",
    "\treturn count == length(graph)\n",
    "end"
   ]
  },
  {
   "attachments": {},
   "cell_type": "markdown",
   "metadata": {},
   "source": [
    "8. в неориентированным графе найти все компоненты связности"
   ]
  },
  {
   "cell_type": "code",
   "execution_count": 22,
   "metadata": {},
   "outputs": [
    {
     "data": {
      "text/plain": [
       "3-element Vector{Dict{Int64, Vector{Int64}}}:\n",
       " Dict(4 => [5])\n",
       " Dict(1 => [2, 3])\n",
       " Dict()"
      ]
     },
     "metadata": {},
     "output_type": "display_data"
    }
   ],
   "source": [
    "function components(graph::Graph{I})::AbstractVector{Graph{I}} where I <: Integer\n",
    "\tsupergraph = Graph{I}[]\n",
    "\n",
    "\tmark = zeros(Bool, length(graph))\n",
    "\n",
    "\tfor (vstart,vec) in graph\n",
    "\t\tif mark[vstart] continue end\n",
    "\t\t\n",
    "\t\tcomp = Graph{I}()\n",
    "\n",
    "\t\tqueue = [vstart]\n",
    "\t\tmark[vstart] = true\n",
    "\t\twhile !isempty(queue)\n",
    "\t\t\tv = popfirst!(queue)\n",
    "\t\t\tfor u in vec\n",
    "\t\t\t\tif !mark[u]\n",
    "\t\t\t\t\tcomp[u] = graph[u]\n",
    "\t\t\t\t\tmark[u] = true\n",
    "\t\t\t\t\tpush!(queue,u)\n",
    "\t\t\t\tend\n",
    "\t\t\tend\n",
    "\t\tend\n",
    "\n",
    "\t\tpush!(supergraph,comp)\n",
    "\tend\n",
    "\n",
    "\treturn supergraph\n",
    "end\n",
    "\n",
    "components(Graph{Int64}([\n",
    "\t( 1 , Int64[2,3] ),\n",
    "\t( 2 , Int64[1] ),\n",
    "\t( 3 , Int64[1] ),\n",
    "\n",
    "\t( 4 , Int64[5] ),\n",
    "\t( 5 , Int64[4] )\n",
    "]))"
   ]
  },
  {
   "attachments": {},
   "cell_type": "markdown",
   "metadata": {},
   "source": [
    "9. проверить, является ли заданный неориентированный граф двудольным"
   ]
  },
  {
   "cell_type": "code",
   "execution_count": 17,
   "metadata": {},
   "outputs": [],
   "source": [
    "#идинах"
   ]
  }
 ],
 "metadata": {
  "kernelspec": {
   "display_name": "Julia 1.8.5",
   "language": "julia",
   "name": "julia-1.8"
  },
  "language_info": {
   "file_extension": ".jl",
   "mimetype": "application/julia",
   "name": "julia",
   "version": "1.8.5"
  },
  "orig_nbformat": 4
 },
 "nbformat": 4,
 "nbformat_minor": 2
}
