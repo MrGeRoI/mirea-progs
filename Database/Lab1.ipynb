{
  "nbformat": 4,
  "nbformat_minor": 0,
  "metadata": {
    "kernelspec": {
      "display_name": "Python 3",
      "language": "python",
      "name": "python3"
    },
    "language_info": {
      "codemirror_mode": {
        "name": "ipython",
        "version": 3
      },
      "file_extension": ".py",
      "mimetype": "text/x-python",
      "name": "python",
      "nbconvert_exporter": "python",
      "pygments_lexer": "ipython3",
      "version": "3.8.8"
    },
    "colab": {
      "provenance": []
    }
  },
  "cells": [
    {
      "cell_type": "markdown",
      "metadata": {
        "id": "s5oU2Q5R3f3n"
      },
      "source": [
        "Проверим, что у вас подключена возможность работы с SQL"
      ]
    },
    {
      "cell_type": "code",
      "metadata": {
        "id": "ct9OpQ853f3n"
      },
      "source": [
        "%load_ext sql\n",
        "%sql sqlite://"
      ],
      "execution_count": 2,
      "outputs": []
    },
    {
      "cell_type": "markdown",
      "metadata": {
        "id": "nMjULTOr3f3p"
      },
      "source": [
        "Создадим таблицу специальностей со следующими полями:\n",
        "1. id - уникальный идентификатор специальности\n",
        "2. Name - Специальность"
      ]
    },
    {
      "cell_type": "code",
      "metadata": {
        "id": "ZjlRJsr63f3p",
        "colab": {
          "base_uri": "https://localhost:8080/"
        },
        "outputId": "a7f361ae-f87d-4c88-9d1a-4d56607534f3"
      },
      "source": [
        "%%sql\n",
        "drop table if exists Students;\n",
        "drop table if exists Specialities;\n",
        "\n",
        "CREATE TABLE Specialities\n",
        "(\n",
        "    id integer primary key,\n",
        "    Name varchar(50)\n",
        ");"
      ],
      "execution_count": 3,
      "outputs": [
        {
          "output_type": "stream",
          "name": "stdout",
          "text": [
            " * sqlite://\n",
            "Done.\n",
            "Done.\n",
            "Done.\n"
          ]
        },
        {
          "output_type": "execute_result",
          "data": {
            "text/plain": [
              "[]"
            ]
          },
          "metadata": {},
          "execution_count": 3
        }
      ]
    },
    {
      "cell_type": "markdown",
      "metadata": {
        "id": "vNpV5jjw3f3q"
      },
      "source": [
        "Проверим, что таблица создана"
      ]
    },
    {
      "cell_type": "code",
      "metadata": {
        "id": "PHGSKu2-3f3q",
        "colab": {
          "base_uri": "https://localhost:8080/",
          "height": 75
        },
        "outputId": "1383b276-47ef-4a99-abc1-b758838c84a9"
      },
      "source": [
        "%sql select * from Specialities"
      ],
      "execution_count": 4,
      "outputs": [
        {
          "output_type": "stream",
          "name": "stdout",
          "text": [
            " * sqlite://\n",
            "Done.\n"
          ]
        },
        {
          "output_type": "execute_result",
          "data": {
            "text/plain": [
              "[]"
            ],
            "text/html": [
              "<table>\n",
              "    <thead>\n",
              "        <tr>\n",
              "            <th>id</th>\n",
              "            <th>Name</th>\n",
              "        </tr>\n",
              "    </thead>\n",
              "    <tbody>\n",
              "    </tbody>\n",
              "</table>"
            ]
          },
          "metadata": {},
          "execution_count": 4
        }
      ]
    },
    {
      "cell_type": "markdown",
      "metadata": {
        "id": "NNU1lQAT3f3q"
      },
      "source": [
        "Заполним таблицу данными"
      ]
    },
    {
      "cell_type": "code",
      "metadata": {
        "id": "ffoy8GBQ3f3r",
        "colab": {
          "base_uri": "https://localhost:8080/"
        },
        "outputId": "aac11608-0332-4765-c91c-127122005ad3"
      },
      "source": [
        "%%sql\n",
        "insert Into Specialities(id, name) values (1, 'Биотехнические системы и технологии');\n",
        "insert Into Specialities(id, name) values (2, 'Компьютерная безопасность');\n",
        "insert Into Specialities(id, name) values (3, 'Прикладная математика и информатика');\n",
        "insert Into Specialities(id, name) values (4, 'Мехатроника и робототехника');\n",
        "insert Into Specialities(id, name) values (5, 'Системный анализ и управление');\n",
        "insert Into Specialities(id, name) values (6, 'Информационная безопасность телекоммуникационных систем');\n",
        "insert Into Specialities(id, name) values (7, 'Управление в технических системах');"
      ],
      "execution_count": 5,
      "outputs": [
        {
          "output_type": "stream",
          "name": "stdout",
          "text": [
            " * sqlite://\n",
            "1 rows affected.\n",
            "1 rows affected.\n",
            "1 rows affected.\n",
            "1 rows affected.\n",
            "1 rows affected.\n",
            "1 rows affected.\n",
            "1 rows affected.\n"
          ]
        },
        {
          "output_type": "execute_result",
          "data": {
            "text/plain": [
              "[]"
            ]
          },
          "metadata": {},
          "execution_count": 5
        }
      ]
    },
    {
      "cell_type": "markdown",
      "metadata": {
        "id": "Nbtm_2rx3f3r"
      },
      "source": [
        "SQLite требует включение поддержки внешних ключей.\n",
        "Более подробно можно посмотреть [здесь](https://sqlite.org/foreignkeys.html)"
      ]
    },
    {
      "cell_type": "code",
      "metadata": {
        "id": "QOcQJLCr3f3r",
        "colab": {
          "base_uri": "https://localhost:8080/"
        },
        "outputId": "1afee3ed-0ea0-41e2-fe75-98377326f1ea"
      },
      "source": [
        "%%sql\n",
        "PRAGMA foreign_keys = ON;"
      ],
      "execution_count": 6,
      "outputs": [
        {
          "output_type": "stream",
          "name": "stdout",
          "text": [
            " * sqlite://\n",
            "Done.\n"
          ]
        },
        {
          "output_type": "execute_result",
          "data": {
            "text/plain": [
              "[]"
            ]
          },
          "metadata": {},
          "execution_count": 6
        }
      ]
    },
    {
      "cell_type": "markdown",
      "metadata": {
        "id": "CMPVyr0G3f3s"
      },
      "source": [
        "Создадим таблицу Студентов со следующими полями:\n",
        "1. Student_id - уникальный идентификатор студента\n",
        "2. Name - имя студента\n",
        "3. Second Name - фамилия студента\n",
        "4. Speciality - специальность студента\n",
        "5. StudyGroup - группа студента\n",
        "6. GPA - средний балл"
      ]
    },
    {
      "cell_type": "code",
      "metadata": {
        "id": "iH4QwAPL3f3s",
        "colab": {
          "base_uri": "https://localhost:8080/"
        },
        "outputId": "18686b64-befe-4f26-f6c0-1390544a5ae7"
      },
      "source": [
        "%%sql\n",
        "drop table if exists Students;\n",
        "\n",
        "CREATE TABLE Students\n",
        "(\n",
        "    student_id integer primary key,\n",
        "    Name varchar(50),\n",
        "    SecondName varchar(50),\n",
        "    Speciality_id integer ,\n",
        "    StudyGroup varchar(20),\n",
        "    GPA number,\n",
        "    foreign key(Speciality_id) references Specialities(id)\n",
        ");"
      ],
      "execution_count": 7,
      "outputs": [
        {
          "output_type": "stream",
          "name": "stdout",
          "text": [
            " * sqlite://\n",
            "Done.\n",
            "Done.\n"
          ]
        },
        {
          "output_type": "execute_result",
          "data": {
            "text/plain": [
              "[]"
            ]
          },
          "metadata": {},
          "execution_count": 7
        }
      ]
    },
    {
      "cell_type": "markdown",
      "metadata": {
        "id": "9hb9w8oC3f3s"
      },
      "source": [
        "Проверим, что таблица создана"
      ]
    },
    {
      "cell_type": "code",
      "metadata": {
        "id": "6IMmHj9J3f3s",
        "colab": {
          "base_uri": "https://localhost:8080/",
          "height": 75
        },
        "outputId": "614b28eb-498d-4057-9ebd-6a67809b2e39"
      },
      "source": [
        "%sql select * from Students"
      ],
      "execution_count": 8,
      "outputs": [
        {
          "output_type": "stream",
          "name": "stdout",
          "text": [
            " * sqlite://\n",
            "Done.\n"
          ]
        },
        {
          "output_type": "execute_result",
          "data": {
            "text/plain": [
              "[]"
            ],
            "text/html": [
              "<table>\n",
              "    <thead>\n",
              "        <tr>\n",
              "            <th>student_id</th>\n",
              "            <th>Name</th>\n",
              "            <th>SecondName</th>\n",
              "            <th>Speciality_id</th>\n",
              "            <th>StudyGroup</th>\n",
              "            <th>GPA</th>\n",
              "        </tr>\n",
              "    </thead>\n",
              "    <tbody>\n",
              "    </tbody>\n",
              "</table>"
            ]
          },
          "metadata": {},
          "execution_count": 8
        }
      ]
    },
    {
      "cell_type": "markdown",
      "metadata": {
        "id": "5rUU1gfv3f3t"
      },
      "source": [
        "Заполним таблицу данными"
      ]
    },
    {
      "cell_type": "code",
      "metadata": {
        "id": "PISGbGrC3f3t",
        "colab": {
          "base_uri": "https://localhost:8080/"
        },
        "outputId": "6101191a-640c-4421-a6dd-4777302bda8f"
      },
      "source": [
        "%%sql\n",
        "insert into Students(student_id, SecondName, Name, Speciality_id, StudyGroup, GPA) VALUES (1, 'Альянов', 'Николай', 1, '04-20', 3.58);\n",
        "insert into Students(student_id, SecondName, Name, Speciality_id, StudyGroup, GPA) VALUES (2, 'Крыгина', 'Ева', 1, '01-20', 4.58);\n",
        "insert into Students(student_id, SecondName, Name, Speciality_id, StudyGroup, GPA) VALUES (3, 'Исаева', 'Анна', 1, '01-20', 4.75);\n",
        "insert into Students(student_id, SecondName, Name, Speciality_id, StudyGroup, GPA) VALUES (4, 'Егоров', 'Павел', 2, '01-20', 4.83);\n",
        "insert into Students(student_id, SecondName, Name, Speciality_id, StudyGroup, GPA) VALUES (5, 'Тихомиров', 'Тимофей', 2, '03-20', 4.18);\n",
        "insert into Students(student_id, SecondName, Name, Speciality_id, StudyGroup, GPA) VALUES (6, 'Ширшов', 'Александр', 2, '06-20', 3.91);\n",
        "insert into Students(student_id, SecondName, Name, Speciality_id, StudyGroup, GPA) VALUES (7, 'Фатеев', 'Максим', 3, '05-20', 3.8);\n",
        "insert into Students(student_id, SecondName, Name, Speciality_id, StudyGroup, GPA) VALUES (8, 'Киселев', 'Петр',  3, '05-20', 3.5);\n",
        "insert into Students(student_id, SecondName, Name, Speciality_id, StudyGroup, GPA) VALUES (9, 'Агашкина', 'Дарья', 4, '02-20', 4.18);\n",
        "insert into Students(student_id, SecondName, Name, Speciality_id, StudyGroup, GPA) VALUES (10, 'Горин', 'Олег', 5, '01-20', 3.89);\n",
        "insert into Students(student_id, SecondName, Name, Speciality_id, StudyGroup, GPA) VALUES (11, 'Комарова', 'Екатерина', 6, '02-20', 4.83);\n",
        "insert into Students(student_id, SecondName, Name, Speciality_id, StudyGroup, GPA) VALUES (12, 'Челыхов', 'Иван', 6, '06-20', 4.45);\n",
        "insert into Students(student_id, SecondName, Name, Speciality_id, StudyGroup, GPA) VALUES (13, 'Назаров', 'Александр', 6, '06-20', 3.73);\n",
        "insert into Students(student_id, SecondName, Name, Speciality_id, StudyGroup, GPA) VALUES (14, 'Горлова', 'Ксения', 7, '01-20', 5);"
      ],
      "execution_count": 9,
      "outputs": [
        {
          "output_type": "stream",
          "name": "stdout",
          "text": [
            " * sqlite://\n",
            "1 rows affected.\n",
            "1 rows affected.\n",
            "1 rows affected.\n",
            "1 rows affected.\n",
            "1 rows affected.\n",
            "1 rows affected.\n",
            "1 rows affected.\n",
            "1 rows affected.\n",
            "1 rows affected.\n",
            "1 rows affected.\n",
            "1 rows affected.\n",
            "1 rows affected.\n",
            "1 rows affected.\n",
            "1 rows affected.\n"
          ]
        },
        {
          "output_type": "execute_result",
          "data": {
            "text/plain": [
              "[]"
            ]
          },
          "metadata": {},
          "execution_count": 9
        }
      ]
    },
    {
      "cell_type": "markdown",
      "metadata": {
        "id": "ikX4Z-jW3f3t"
      },
      "source": [
        "Проверим наличие данных"
      ]
    },
    {
      "cell_type": "code",
      "metadata": {
        "id": "eq9zXRxN3f3u",
        "colab": {
          "base_uri": "https://localhost:8080/",
          "height": 374
        },
        "outputId": "a42c1e4d-ddd1-493b-8737-81d16776bdef"
      },
      "source": [
        "%sql select * from Students"
      ],
      "execution_count": 10,
      "outputs": [
        {
          "output_type": "stream",
          "name": "stdout",
          "text": [
            " * sqlite://\n",
            "Done.\n"
          ]
        },
        {
          "output_type": "execute_result",
          "data": {
            "text/plain": [
              "[(1, 'Николай', 'Альянов', 1, '04-20', 3.58),\n",
              " (2, 'Ева', 'Крыгина', 1, '01-20', 4.58),\n",
              " (3, 'Анна', 'Исаева', 1, '01-20', 4.75),\n",
              " (4, 'Павел', 'Егоров', 2, '01-20', 4.83),\n",
              " (5, 'Тимофей', 'Тихомиров', 2, '03-20', 4.18),\n",
              " (6, 'Александр', 'Ширшов', 2, '06-20', 3.91),\n",
              " (7, 'Максим', 'Фатеев', 3, '05-20', 3.8),\n",
              " (8, 'Петр', 'Киселев', 3, '05-20', 3.5),\n",
              " (9, 'Дарья', 'Агашкина', 4, '02-20', 4.18),\n",
              " (10, 'Олег', 'Горин', 5, '01-20', 3.89),\n",
              " (11, 'Екатерина', 'Комарова', 6, '02-20', 4.83),\n",
              " (12, 'Иван', 'Челыхов', 6, '06-20', 4.45),\n",
              " (13, 'Александр', 'Назаров', 6, '06-20', 3.73),\n",
              " (14, 'Ксения', 'Горлова', 7, '01-20', 5)]"
            ],
            "text/html": [
              "<table>\n",
              "    <thead>\n",
              "        <tr>\n",
              "            <th>student_id</th>\n",
              "            <th>Name</th>\n",
              "            <th>SecondName</th>\n",
              "            <th>Speciality_id</th>\n",
              "            <th>StudyGroup</th>\n",
              "            <th>GPA</th>\n",
              "        </tr>\n",
              "    </thead>\n",
              "    <tbody>\n",
              "        <tr>\n",
              "            <td>1</td>\n",
              "            <td>Николай</td>\n",
              "            <td>Альянов</td>\n",
              "            <td>1</td>\n",
              "            <td>04-20</td>\n",
              "            <td>3.58</td>\n",
              "        </tr>\n",
              "        <tr>\n",
              "            <td>2</td>\n",
              "            <td>Ева</td>\n",
              "            <td>Крыгина</td>\n",
              "            <td>1</td>\n",
              "            <td>01-20</td>\n",
              "            <td>4.58</td>\n",
              "        </tr>\n",
              "        <tr>\n",
              "            <td>3</td>\n",
              "            <td>Анна</td>\n",
              "            <td>Исаева</td>\n",
              "            <td>1</td>\n",
              "            <td>01-20</td>\n",
              "            <td>4.75</td>\n",
              "        </tr>\n",
              "        <tr>\n",
              "            <td>4</td>\n",
              "            <td>Павел</td>\n",
              "            <td>Егоров</td>\n",
              "            <td>2</td>\n",
              "            <td>01-20</td>\n",
              "            <td>4.83</td>\n",
              "        </tr>\n",
              "        <tr>\n",
              "            <td>5</td>\n",
              "            <td>Тимофей</td>\n",
              "            <td>Тихомиров</td>\n",
              "            <td>2</td>\n",
              "            <td>03-20</td>\n",
              "            <td>4.18</td>\n",
              "        </tr>\n",
              "        <tr>\n",
              "            <td>6</td>\n",
              "            <td>Александр</td>\n",
              "            <td>Ширшов</td>\n",
              "            <td>2</td>\n",
              "            <td>06-20</td>\n",
              "            <td>3.91</td>\n",
              "        </tr>\n",
              "        <tr>\n",
              "            <td>7</td>\n",
              "            <td>Максим</td>\n",
              "            <td>Фатеев</td>\n",
              "            <td>3</td>\n",
              "            <td>05-20</td>\n",
              "            <td>3.8</td>\n",
              "        </tr>\n",
              "        <tr>\n",
              "            <td>8</td>\n",
              "            <td>Петр</td>\n",
              "            <td>Киселев</td>\n",
              "            <td>3</td>\n",
              "            <td>05-20</td>\n",
              "            <td>3.5</td>\n",
              "        </tr>\n",
              "        <tr>\n",
              "            <td>9</td>\n",
              "            <td>Дарья</td>\n",
              "            <td>Агашкина</td>\n",
              "            <td>4</td>\n",
              "            <td>02-20</td>\n",
              "            <td>4.18</td>\n",
              "        </tr>\n",
              "        <tr>\n",
              "            <td>10</td>\n",
              "            <td>Олег</td>\n",
              "            <td>Горин</td>\n",
              "            <td>5</td>\n",
              "            <td>01-20</td>\n",
              "            <td>3.89</td>\n",
              "        </tr>\n",
              "        <tr>\n",
              "            <td>11</td>\n",
              "            <td>Екатерина</td>\n",
              "            <td>Комарова</td>\n",
              "            <td>6</td>\n",
              "            <td>02-20</td>\n",
              "            <td>4.83</td>\n",
              "        </tr>\n",
              "        <tr>\n",
              "            <td>12</td>\n",
              "            <td>Иван</td>\n",
              "            <td>Челыхов</td>\n",
              "            <td>6</td>\n",
              "            <td>06-20</td>\n",
              "            <td>4.45</td>\n",
              "        </tr>\n",
              "        <tr>\n",
              "            <td>13</td>\n",
              "            <td>Александр</td>\n",
              "            <td>Назаров</td>\n",
              "            <td>6</td>\n",
              "            <td>06-20</td>\n",
              "            <td>3.73</td>\n",
              "        </tr>\n",
              "        <tr>\n",
              "            <td>14</td>\n",
              "            <td>Ксения</td>\n",
              "            <td>Горлова</td>\n",
              "            <td>7</td>\n",
              "            <td>01-20</td>\n",
              "            <td>5</td>\n",
              "        </tr>\n",
              "    </tbody>\n",
              "</table>"
            ]
          },
          "metadata": {},
          "execution_count": 10
        }
      ]
    },
    {
      "cell_type": "code",
      "metadata": {
        "id": "yYtrbXwa3f3u",
        "colab": {
          "base_uri": "https://localhost:8080/",
          "height": 225
        },
        "outputId": "777294c9-96b2-47fe-8110-e969937575bc"
      },
      "source": [
        "%sql select * from Specialities"
      ],
      "execution_count": 11,
      "outputs": [
        {
          "output_type": "stream",
          "name": "stdout",
          "text": [
            " * sqlite://\n",
            "Done.\n"
          ]
        },
        {
          "output_type": "execute_result",
          "data": {
            "text/plain": [
              "[(1, 'Биотехнические системы и технологии'),\n",
              " (2, 'Компьютерная безопасность'),\n",
              " (3, 'Прикладная математика и информатика'),\n",
              " (4, 'Мехатроника и робототехника'),\n",
              " (5, 'Системный анализ и управление'),\n",
              " (6, 'Информационная безопасность телекоммуникационных систем'),\n",
              " (7, 'Управление в технических системах')]"
            ],
            "text/html": [
              "<table>\n",
              "    <thead>\n",
              "        <tr>\n",
              "            <th>id</th>\n",
              "            <th>Name</th>\n",
              "        </tr>\n",
              "    </thead>\n",
              "    <tbody>\n",
              "        <tr>\n",
              "            <td>1</td>\n",
              "            <td>Биотехнические системы и технологии</td>\n",
              "        </tr>\n",
              "        <tr>\n",
              "            <td>2</td>\n",
              "            <td>Компьютерная безопасность</td>\n",
              "        </tr>\n",
              "        <tr>\n",
              "            <td>3</td>\n",
              "            <td>Прикладная математика и информатика</td>\n",
              "        </tr>\n",
              "        <tr>\n",
              "            <td>4</td>\n",
              "            <td>Мехатроника и робототехника</td>\n",
              "        </tr>\n",
              "        <tr>\n",
              "            <td>5</td>\n",
              "            <td>Системный анализ и управление</td>\n",
              "        </tr>\n",
              "        <tr>\n",
              "            <td>6</td>\n",
              "            <td>Информационная безопасность телекоммуникационных систем</td>\n",
              "        </tr>\n",
              "        <tr>\n",
              "            <td>7</td>\n",
              "            <td>Управление в технических системах</td>\n",
              "        </tr>\n",
              "    </tbody>\n",
              "</table>"
            ]
          },
          "metadata": {},
          "execution_count": 11
        }
      ]
    },
    {
      "cell_type": "markdown",
      "metadata": {
        "id": "aC50VcAG3f3u"
      },
      "source": [
        "## Задание 1. Напишите SQL-запрос, возвращающий фамилии всех студентов с именем Александр"
      ]
    },
    {
      "cell_type": "code",
      "metadata": {
        "id": "LNHUYlRElNNm",
        "outputId": "fd11ed40-3b86-4e8e-f093-17ac0484fbac",
        "colab": {
          "base_uri": "https://localhost:8080/",
          "height": 118
        }
      },
      "source": [
        "%sql SELECT * FROM Students WHERE Name = \"Александр\""
      ],
      "execution_count": 12,
      "outputs": [
        {
          "output_type": "stream",
          "name": "stdout",
          "text": [
            " * sqlite://\n",
            "Done.\n"
          ]
        },
        {
          "output_type": "execute_result",
          "data": {
            "text/plain": [
              "[(6, 'Александр', 'Ширшов', 2, '06-20', 3.91),\n",
              " (13, 'Александр', 'Назаров', 6, '06-20', 3.73)]"
            ],
            "text/html": [
              "<table>\n",
              "    <thead>\n",
              "        <tr>\n",
              "            <th>student_id</th>\n",
              "            <th>Name</th>\n",
              "            <th>SecondName</th>\n",
              "            <th>Speciality_id</th>\n",
              "            <th>StudyGroup</th>\n",
              "            <th>GPA</th>\n",
              "        </tr>\n",
              "    </thead>\n",
              "    <tbody>\n",
              "        <tr>\n",
              "            <td>6</td>\n",
              "            <td>Александр</td>\n",
              "            <td>Ширшов</td>\n",
              "            <td>2</td>\n",
              "            <td>06-20</td>\n",
              "            <td>3.91</td>\n",
              "        </tr>\n",
              "        <tr>\n",
              "            <td>13</td>\n",
              "            <td>Александр</td>\n",
              "            <td>Назаров</td>\n",
              "            <td>6</td>\n",
              "            <td>06-20</td>\n",
              "            <td>3.73</td>\n",
              "        </tr>\n",
              "    </tbody>\n",
              "</table>"
            ]
          },
          "metadata": {},
          "execution_count": 12
        }
      ]
    },
    {
      "cell_type": "markdown",
      "metadata": {
        "id": "Hi4QfjHx3f3v"
      },
      "source": [
        "## Задание 2. Выведите все названия специальностей, на которых учится хотя бы один студент со средним баллом 4.5 и выше. Имя специальности должно встречаться один раз в выводе"
      ]
    },
    {
      "cell_type": "code",
      "metadata": {
        "id": "RH5DOJz83f3v",
        "outputId": "e9bdb185-c842-4d9f-e7c9-97947ac6e988",
        "colab": {
          "base_uri": "https://localhost:8080/",
          "height": 161
        }
      },
      "source": [
        "%%sql\n",
        "SELECT DISTINCT sp.Name FROM Specialities as sp,Students as st\n",
        "  WHERE st.Speciality_id = sp.id AND st.GPA >= 4.5"
      ],
      "execution_count": 13,
      "outputs": [
        {
          "output_type": "stream",
          "name": "stdout",
          "text": [
            " * sqlite://\n",
            "Done.\n"
          ]
        },
        {
          "output_type": "execute_result",
          "data": {
            "text/plain": [
              "[('Биотехнические системы и технологии',),\n",
              " ('Компьютерная безопасность',),\n",
              " ('Информационная безопасность телекоммуникационных систем',),\n",
              " ('Управление в технических системах',)]"
            ],
            "text/html": [
              "<table>\n",
              "    <thead>\n",
              "        <tr>\n",
              "            <th>Name</th>\n",
              "        </tr>\n",
              "    </thead>\n",
              "    <tbody>\n",
              "        <tr>\n",
              "            <td>Биотехнические системы и технологии</td>\n",
              "        </tr>\n",
              "        <tr>\n",
              "            <td>Компьютерная безопасность</td>\n",
              "        </tr>\n",
              "        <tr>\n",
              "            <td>Информационная безопасность телекоммуникационных систем</td>\n",
              "        </tr>\n",
              "        <tr>\n",
              "            <td>Управление в технических системах</td>\n",
              "        </tr>\n",
              "    </tbody>\n",
              "</table>"
            ]
          },
          "metadata": {},
          "execution_count": 13
        }
      ]
    },
    {
      "cell_type": "markdown",
      "metadata": {
        "collapsed": true,
        "id": "tjapuoH13f3v"
      },
      "source": [
        "## Задание 3. Вывести только тех студентов, фамилия которых начинается с буквы 'к', а в имени есть буква 'е'."
      ]
    },
    {
      "cell_type": "code",
      "metadata": {
        "id": "_0dw3OJm3f3v",
        "outputId": "f49d778b-3330-457e-aa08-18c4965c758a",
        "colab": {
          "base_uri": "https://localhost:8080/",
          "height": 139
        }
      },
      "source": [
        "%sql SELECT * FROM Students WHERE ((Name LIKE \"%е%\") OR (Name LIKE \"Е%\")) AND (SecondName LIKE \"К%\")"
      ],
      "execution_count": 14,
      "outputs": [
        {
          "output_type": "stream",
          "name": "stdout",
          "text": [
            " * sqlite://\n",
            "Done.\n"
          ]
        },
        {
          "output_type": "execute_result",
          "data": {
            "text/plain": [
              "[(2, 'Ева', 'Крыгина', 1, '01-20', 4.58),\n",
              " (8, 'Петр', 'Киселев', 3, '05-20', 3.5),\n",
              " (11, 'Екатерина', 'Комарова', 6, '02-20', 4.83)]"
            ],
            "text/html": [
              "<table>\n",
              "    <thead>\n",
              "        <tr>\n",
              "            <th>student_id</th>\n",
              "            <th>Name</th>\n",
              "            <th>SecondName</th>\n",
              "            <th>Speciality_id</th>\n",
              "            <th>StudyGroup</th>\n",
              "            <th>GPA</th>\n",
              "        </tr>\n",
              "    </thead>\n",
              "    <tbody>\n",
              "        <tr>\n",
              "            <td>2</td>\n",
              "            <td>Ева</td>\n",
              "            <td>Крыгина</td>\n",
              "            <td>1</td>\n",
              "            <td>01-20</td>\n",
              "            <td>4.58</td>\n",
              "        </tr>\n",
              "        <tr>\n",
              "            <td>8</td>\n",
              "            <td>Петр</td>\n",
              "            <td>Киселев</td>\n",
              "            <td>3</td>\n",
              "            <td>05-20</td>\n",
              "            <td>3.5</td>\n",
              "        </tr>\n",
              "        <tr>\n",
              "            <td>11</td>\n",
              "            <td>Екатерина</td>\n",
              "            <td>Комарова</td>\n",
              "            <td>6</td>\n",
              "            <td>02-20</td>\n",
              "            <td>4.83</td>\n",
              "        </tr>\n",
              "    </tbody>\n",
              "</table>"
            ]
          },
          "metadata": {},
          "execution_count": 14
        }
      ]
    },
    {
      "cell_type": "markdown",
      "metadata": {
        "id": "0TS2W3aV3f3v"
      },
      "source": [
        "## Задание 4. Вывести специальности (+ их средние баллы), количество групп в которых больше одной"
      ]
    },
    {
      "cell_type": "code",
      "metadata": {
        "collapsed": true,
        "id": "uRgmhus13f3w",
        "outputId": "c68f82a4-4bef-47a7-b3db-3b828ffad493",
        "colab": {
          "base_uri": "https://localhost:8080/",
          "height": 139
        }
      },
      "source": [
        "%%sql\n",
        "SELECT sp.Name, ROUND(AVG(st.GPA),2) AS GPA\n",
        "  FROM Specialities AS sp,Students AS st\n",
        "  WHERE st.Speciality_id = sp.id\n",
        "  GROUP BY sp.Name\n",
        "  HAVING COUNT(DISTINCT st.StudyGroup) > 1"
      ],
      "execution_count": 15,
      "outputs": [
        {
          "output_type": "stream",
          "name": "stdout",
          "text": [
            " * sqlite://\n",
            "Done.\n"
          ]
        },
        {
          "output_type": "execute_result",
          "data": {
            "text/plain": [
              "[('Биотехнические системы и технологии', 4.3),\n",
              " ('Информационная безопасность телекоммуникационных систем', 4.34),\n",
              " ('Компьютерная безопасность', 4.31)]"
            ],
            "text/html": [
              "<table>\n",
              "    <thead>\n",
              "        <tr>\n",
              "            <th>Name</th>\n",
              "            <th>GPA</th>\n",
              "        </tr>\n",
              "    </thead>\n",
              "    <tbody>\n",
              "        <tr>\n",
              "            <td>Биотехнические системы и технологии</td>\n",
              "            <td>4.3</td>\n",
              "        </tr>\n",
              "        <tr>\n",
              "            <td>Информационная безопасность телекоммуникационных систем</td>\n",
              "            <td>4.34</td>\n",
              "        </tr>\n",
              "        <tr>\n",
              "            <td>Компьютерная безопасность</td>\n",
              "            <td>4.31</td>\n",
              "        </tr>\n",
              "    </tbody>\n",
              "</table>"
            ]
          },
          "metadata": {},
          "execution_count": 15
        }
      ]
    },
    {
      "cell_type": "markdown",
      "metadata": {
        "id": "msNP-JhP3f3w"
      },
      "source": [
        "## Задание 5. Для всех специальностей вывести средний балл по специальности для студентов, в чьей фамилия вторая буква НЕ 'а', при условии, что количество таких студентов на специальности не менее 2. В обратном случае, специальность выводить не требуется"
      ]
    },
    {
      "cell_type": "code",
      "metadata": {
        "id": "XvQ0SwGB3f3w",
        "outputId": "425b009b-eeea-4a02-d5ae-6f417286bb35",
        "colab": {
          "base_uri": "https://localhost:8080/",
          "height": 139
        }
      },
      "source": [
        "%%sql\n",
        "SELECT sp.Name, ROUND(AVG(st.GPA),2) AS GPA\n",
        "  FROM Specialities AS sp,Students AS st\n",
        "  WHERE st.Speciality_id = sp.id AND st.SecondName NOT LIKE \"_а%\"\n",
        "  GROUP BY st.Speciality_id\n",
        "  HAVING COUNT(*) >= 2"
      ],
      "execution_count": 16,
      "outputs": [
        {
          "output_type": "stream",
          "name": "stdout",
          "text": [
            " * sqlite://\n",
            "Done.\n"
          ]
        },
        {
          "output_type": "execute_result",
          "data": {
            "text/plain": [
              "[('Биотехнические системы и технологии', 4.3),\n",
              " ('Компьютерная безопасность', 4.31),\n",
              " ('Информационная безопасность телекоммуникационных систем', 4.64)]"
            ],
            "text/html": [
              "<table>\n",
              "    <thead>\n",
              "        <tr>\n",
              "            <th>Name</th>\n",
              "            <th>GPA</th>\n",
              "        </tr>\n",
              "    </thead>\n",
              "    <tbody>\n",
              "        <tr>\n",
              "            <td>Биотехнические системы и технологии</td>\n",
              "            <td>4.3</td>\n",
              "        </tr>\n",
              "        <tr>\n",
              "            <td>Компьютерная безопасность</td>\n",
              "            <td>4.31</td>\n",
              "        </tr>\n",
              "        <tr>\n",
              "            <td>Информационная безопасность телекоммуникационных систем</td>\n",
              "            <td>4.64</td>\n",
              "        </tr>\n",
              "    </tbody>\n",
              "</table>"
            ]
          },
          "metadata": {},
          "execution_count": 16
        }
      ]
    }
  ]
}