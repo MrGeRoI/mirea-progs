{
  "nbformat": 4,
  "nbformat_minor": 0,
  "metadata": {
    "kernelspec": {
      "display_name": "Python 3",
      "language": "python",
      "name": "python3"
    },
    "language_info": {
      "codemirror_mode": {
        "name": "ipython",
        "version": 3
      },
      "file_extension": ".py",
      "mimetype": "text/x-python",
      "name": "python",
      "nbconvert_exporter": "python",
      "pygments_lexer": "ipython3",
      "version": "3.7.6"
    },
    "colab": {
      "provenance": []
    }
  },
  "cells": [
    {
      "cell_type": "code",
      "metadata": {
        "id": "exFkotWz7Lk_"
      },
      "source": [
        "#%load_ext sql\n",
        "%reload_ext sql\n",
        "%sql sqlite:///chinook.db"
      ],
      "execution_count": 1,
      "outputs": []
    },
    {
      "cell_type": "code",
      "source": [
        "%%sql SELECT * FROM employees"
      ],
      "metadata": {
        "colab": {
          "base_uri": "https://localhost:8080/",
          "height": 385
        },
        "id": "7WqbapcZJBVM",
        "outputId": "8e73967b-aaa6-4d70-d389-c10d01ed64ae"
      },
      "execution_count": 3,
      "outputs": [
        {
          "output_type": "stream",
          "name": "stdout",
          "text": [
            " * sqlite:///chinook.db\n",
            "Done.\n"
          ]
        },
        {
          "output_type": "execute_result",
          "data": {
            "text/plain": [
              "[(1, 'Adams', 'Andrew', 'General Manager', None, '1962-02-18 00:00:00', '2002-08-14 00:00:00', '11120 Jasper Ave NW', 'Edmonton', 'AB', 'Canada', 'T5K 2N1', '+1 (780) 428-9482', '+1 (780) 428-3457', 'andrew@chinookcorp.com'),\n",
              " (2, 'Edwards', 'Nancy', 'Sales Manager', 1, '1958-12-08 00:00:00', '2002-05-01 00:00:00', '825 8 Ave SW', 'Calgary', 'AB', 'Canada', 'T2P 2T3', '+1 (403) 262-3443', '+1 (403) 262-3322', 'nancy@chinookcorp.com'),\n",
              " (3, 'Peacock', 'Jane', 'Sales Support Agent', 2, '1973-08-29 00:00:00', '2002-04-01 00:00:00', '1111 6 Ave SW', 'Calgary', 'AB', 'Canada', 'T2P 5M5', '+1 (403) 262-3443', '+1 (403) 262-6712', 'jane@chinookcorp.com'),\n",
              " (4, 'Park', 'Margaret', 'Sales Support Agent', 2, '1947-09-19 00:00:00', '2003-05-03 00:00:00', '683 10 Street SW', 'Calgary', 'AB', 'Canada', 'T2P 5G3', '+1 (403) 263-4423', '+1 (403) 263-4289', 'margaret@chinookcorp.com'),\n",
              " (5, 'Johnson', 'Steve', 'Sales Support Agent', 2, '1965-03-03 00:00:00', '2003-10-17 00:00:00', '7727B 41 Ave', 'Calgary', 'AB', 'Canada', 'T3B 1Y7', '1 (780) 836-9987', '1 (780) 836-9543', 'steve@chinookcorp.com'),\n",
              " (6, 'Mitchell', 'Michael', 'IT Manager', 1, '1973-07-01 00:00:00', '2003-10-17 00:00:00', '5827 Bowness Road NW', 'Calgary', 'AB', 'Canada', 'T3B 0C5', '+1 (403) 246-9887', '+1 (403) 246-9899', 'michael@chinookcorp.com'),\n",
              " (7, 'King', 'Robert', 'IT Staff', 6, '1970-05-29 00:00:00', '2004-01-02 00:00:00', '590 Columbia Boulevard West', 'Lethbridge', 'AB', 'Canada', 'T1K 5N8', '+1 (403) 456-9986', '+1 (403) 456-8485', 'robert@chinookcorp.com'),\n",
              " (8, 'Callahan', 'Laura', 'IT Staff', 6, '1968-01-09 00:00:00', '2004-03-04 00:00:00', '923 7 ST NW', 'Lethbridge', 'AB', 'Canada', 'T1H 1Y8', '+1 (403) 467-3351', '+1 (403) 467-8772', 'laura@chinookcorp.com')]"
            ],
            "text/html": [
              "<table>\n",
              "    <thead>\n",
              "        <tr>\n",
              "            <th>EmployeeId</th>\n",
              "            <th>LastName</th>\n",
              "            <th>FirstName</th>\n",
              "            <th>Title</th>\n",
              "            <th>ReportsTo</th>\n",
              "            <th>BirthDate</th>\n",
              "            <th>HireDate</th>\n",
              "            <th>Address</th>\n",
              "            <th>City</th>\n",
              "            <th>State</th>\n",
              "            <th>Country</th>\n",
              "            <th>PostalCode</th>\n",
              "            <th>Phone</th>\n",
              "            <th>Fax</th>\n",
              "            <th>Email</th>\n",
              "        </tr>\n",
              "    </thead>\n",
              "    <tbody>\n",
              "        <tr>\n",
              "            <td>1</td>\n",
              "            <td>Adams</td>\n",
              "            <td>Andrew</td>\n",
              "            <td>General Manager</td>\n",
              "            <td>None</td>\n",
              "            <td>1962-02-18 00:00:00</td>\n",
              "            <td>2002-08-14 00:00:00</td>\n",
              "            <td>11120 Jasper Ave NW</td>\n",
              "            <td>Edmonton</td>\n",
              "            <td>AB</td>\n",
              "            <td>Canada</td>\n",
              "            <td>T5K 2N1</td>\n",
              "            <td>+1 (780) 428-9482</td>\n",
              "            <td>+1 (780) 428-3457</td>\n",
              "            <td>andrew@chinookcorp.com</td>\n",
              "        </tr>\n",
              "        <tr>\n",
              "            <td>2</td>\n",
              "            <td>Edwards</td>\n",
              "            <td>Nancy</td>\n",
              "            <td>Sales Manager</td>\n",
              "            <td>1</td>\n",
              "            <td>1958-12-08 00:00:00</td>\n",
              "            <td>2002-05-01 00:00:00</td>\n",
              "            <td>825 8 Ave SW</td>\n",
              "            <td>Calgary</td>\n",
              "            <td>AB</td>\n",
              "            <td>Canada</td>\n",
              "            <td>T2P 2T3</td>\n",
              "            <td>+1 (403) 262-3443</td>\n",
              "            <td>+1 (403) 262-3322</td>\n",
              "            <td>nancy@chinookcorp.com</td>\n",
              "        </tr>\n",
              "        <tr>\n",
              "            <td>3</td>\n",
              "            <td>Peacock</td>\n",
              "            <td>Jane</td>\n",
              "            <td>Sales Support Agent</td>\n",
              "            <td>2</td>\n",
              "            <td>1973-08-29 00:00:00</td>\n",
              "            <td>2002-04-01 00:00:00</td>\n",
              "            <td>1111 6 Ave SW</td>\n",
              "            <td>Calgary</td>\n",
              "            <td>AB</td>\n",
              "            <td>Canada</td>\n",
              "            <td>T2P 5M5</td>\n",
              "            <td>+1 (403) 262-3443</td>\n",
              "            <td>+1 (403) 262-6712</td>\n",
              "            <td>jane@chinookcorp.com</td>\n",
              "        </tr>\n",
              "        <tr>\n",
              "            <td>4</td>\n",
              "            <td>Park</td>\n",
              "            <td>Margaret</td>\n",
              "            <td>Sales Support Agent</td>\n",
              "            <td>2</td>\n",
              "            <td>1947-09-19 00:00:00</td>\n",
              "            <td>2003-05-03 00:00:00</td>\n",
              "            <td>683 10 Street SW</td>\n",
              "            <td>Calgary</td>\n",
              "            <td>AB</td>\n",
              "            <td>Canada</td>\n",
              "            <td>T2P 5G3</td>\n",
              "            <td>+1 (403) 263-4423</td>\n",
              "            <td>+1 (403) 263-4289</td>\n",
              "            <td>margaret@chinookcorp.com</td>\n",
              "        </tr>\n",
              "        <tr>\n",
              "            <td>5</td>\n",
              "            <td>Johnson</td>\n",
              "            <td>Steve</td>\n",
              "            <td>Sales Support Agent</td>\n",
              "            <td>2</td>\n",
              "            <td>1965-03-03 00:00:00</td>\n",
              "            <td>2003-10-17 00:00:00</td>\n",
              "            <td>7727B 41 Ave</td>\n",
              "            <td>Calgary</td>\n",
              "            <td>AB</td>\n",
              "            <td>Canada</td>\n",
              "            <td>T3B 1Y7</td>\n",
              "            <td>1 (780) 836-9987</td>\n",
              "            <td>1 (780) 836-9543</td>\n",
              "            <td>steve@chinookcorp.com</td>\n",
              "        </tr>\n",
              "        <tr>\n",
              "            <td>6</td>\n",
              "            <td>Mitchell</td>\n",
              "            <td>Michael</td>\n",
              "            <td>IT Manager</td>\n",
              "            <td>1</td>\n",
              "            <td>1973-07-01 00:00:00</td>\n",
              "            <td>2003-10-17 00:00:00</td>\n",
              "            <td>5827 Bowness Road NW</td>\n",
              "            <td>Calgary</td>\n",
              "            <td>AB</td>\n",
              "            <td>Canada</td>\n",
              "            <td>T3B 0C5</td>\n",
              "            <td>+1 (403) 246-9887</td>\n",
              "            <td>+1 (403) 246-9899</td>\n",
              "            <td>michael@chinookcorp.com</td>\n",
              "        </tr>\n",
              "        <tr>\n",
              "            <td>7</td>\n",
              "            <td>King</td>\n",
              "            <td>Robert</td>\n",
              "            <td>IT Staff</td>\n",
              "            <td>6</td>\n",
              "            <td>1970-05-29 00:00:00</td>\n",
              "            <td>2004-01-02 00:00:00</td>\n",
              "            <td>590 Columbia Boulevard West</td>\n",
              "            <td>Lethbridge</td>\n",
              "            <td>AB</td>\n",
              "            <td>Canada</td>\n",
              "            <td>T1K 5N8</td>\n",
              "            <td>+1 (403) 456-9986</td>\n",
              "            <td>+1 (403) 456-8485</td>\n",
              "            <td>robert@chinookcorp.com</td>\n",
              "        </tr>\n",
              "        <tr>\n",
              "            <td>8</td>\n",
              "            <td>Callahan</td>\n",
              "            <td>Laura</td>\n",
              "            <td>IT Staff</td>\n",
              "            <td>6</td>\n",
              "            <td>1968-01-09 00:00:00</td>\n",
              "            <td>2004-03-04 00:00:00</td>\n",
              "            <td>923 7 ST NW</td>\n",
              "            <td>Lethbridge</td>\n",
              "            <td>AB</td>\n",
              "            <td>Canada</td>\n",
              "            <td>T1H 1Y8</td>\n",
              "            <td>+1 (403) 467-3351</td>\n",
              "            <td>+1 (403) 467-8772</td>\n",
              "            <td>laura@chinookcorp.com</td>\n",
              "        </tr>\n",
              "    </tbody>\n",
              "</table>"
            ]
          },
          "metadata": {},
          "execution_count": 3
        }
      ]
    },
    {
      "cell_type": "markdown",
      "metadata": {
        "id": "IwJ_E91n7LlD"
      },
      "source": [
        "## Задание 1\n",
        "Вывести названия всех групп, их песен и названия их альбомов для всех треков жанра Rock, приобретенные сотрудниками Microsoft.\n"
      ]
    },
    {
      "cell_type": "code",
      "metadata": {
        "id": "9b5SWBYUCqmy",
        "colab": {
          "base_uri": "https://localhost:8080/",
          "height": 246
        },
        "outputId": "7eba6a09-b81f-4472-df51-8d3979b34096"
      },
      "source": [
        "%%sql\n",
        "SELECT ar.Name AS ArtistName, al.Title AS AlbumTitle, t.Name AS TrackName\n",
        "  FROM invoice_items ii\n",
        "LEFT JOIN tracks t\n",
        "  ON ii.TrackId = t.TrackId\n",
        "LEFT JOIN genres g\n",
        "  ON t.GenreId = g.GenreId\n",
        "LEFT JOIN albums al\n",
        "  ON al.AlbumId = t.AlbumId\n",
        "LEFT JOIN artists ar\n",
        "  ON al.ArtistId = ar.ArtistId\n",
        "LEFT JOIN invoices i\n",
        "  ON ii.InvoiceId = i.InvoiceId\n",
        "LEFT JOIN Customers c\n",
        "  ON i.CustomerId = c.CustomerId\n",
        "  WHERE c.Company LIKE \"Microsoft%\" AND g.Name LIKE \"Rock\";"
      ],
      "execution_count": 27,
      "outputs": [
        {
          "output_type": "stream",
          "name": "stdout",
          "text": [
            " * sqlite:///chinook.db\n",
            "Done.\n"
          ]
        },
        {
          "output_type": "execute_result",
          "data": {
            "text/plain": [
              "[(\"Guns N' Roses\", 'Use Your Illusion I', \"Double Talkin' Jive\"),\n",
              " (\"Guns N' Roses\", 'Use Your Illusion I', 'The Garden'),\n",
              " (\"Guns N' Roses\", 'Use Your Illusion I', \"Don't Damn Me\"),\n",
              " (\"Guns N' Roses\", 'Use Your Illusion I', 'Dead Horse'),\n",
              " ('Foo Fighters', 'In Your Honor [Disc 1]', 'No Way Back'),\n",
              " ('Foo Fighters', 'In Your Honor [Disc 2]', 'Still'),\n",
              " ('Foo Fighters', 'In Your Honor [Disc 2]', 'Razor'),\n",
              " ('Foo Fighters', 'The Colour And The Shape', 'My Hero')]"
            ],
            "text/html": [
              "<table>\n",
              "    <thead>\n",
              "        <tr>\n",
              "            <th>ArtistName</th>\n",
              "            <th>AlbumTitle</th>\n",
              "            <th>TrackName</th>\n",
              "        </tr>\n",
              "    </thead>\n",
              "    <tbody>\n",
              "        <tr>\n",
              "            <td>Guns N&#x27; Roses</td>\n",
              "            <td>Use Your Illusion I</td>\n",
              "            <td>Double Talkin&#x27; Jive</td>\n",
              "        </tr>\n",
              "        <tr>\n",
              "            <td>Guns N&#x27; Roses</td>\n",
              "            <td>Use Your Illusion I</td>\n",
              "            <td>The Garden</td>\n",
              "        </tr>\n",
              "        <tr>\n",
              "            <td>Guns N&#x27; Roses</td>\n",
              "            <td>Use Your Illusion I</td>\n",
              "            <td>Don&#x27;t Damn Me</td>\n",
              "        </tr>\n",
              "        <tr>\n",
              "            <td>Guns N&#x27; Roses</td>\n",
              "            <td>Use Your Illusion I</td>\n",
              "            <td>Dead Horse</td>\n",
              "        </tr>\n",
              "        <tr>\n",
              "            <td>Foo Fighters</td>\n",
              "            <td>In Your Honor [Disc 1]</td>\n",
              "            <td>No Way Back</td>\n",
              "        </tr>\n",
              "        <tr>\n",
              "            <td>Foo Fighters</td>\n",
              "            <td>In Your Honor [Disc 2]</td>\n",
              "            <td>Still</td>\n",
              "        </tr>\n",
              "        <tr>\n",
              "            <td>Foo Fighters</td>\n",
              "            <td>In Your Honor [Disc 2]</td>\n",
              "            <td>Razor</td>\n",
              "        </tr>\n",
              "        <tr>\n",
              "            <td>Foo Fighters</td>\n",
              "            <td>The Colour And The Shape</td>\n",
              "            <td>My Hero</td>\n",
              "        </tr>\n",
              "    </tbody>\n",
              "</table>"
            ]
          },
          "metadata": {},
          "execution_count": 27
        }
      ]
    },
    {
      "cell_type": "markdown",
      "metadata": {
        "id": "eEAq-gUB7LlF"
      },
      "source": [
        "## Задание 2\n",
        "Вывести 10 самых больших по размеру треков жанра Blues и формата MPEG (используйте команду LIMIT 10). Только название и автор.\n"
      ]
    },
    {
      "cell_type": "code",
      "metadata": {
        "id": "LQxLAdI3CrDC",
        "colab": {
          "base_uri": "https://localhost:8080/",
          "height": 289
        },
        "outputId": "390ea23d-0aaf-4280-cd7b-53fd47c8a925"
      },
      "source": [
        "%%sql\n",
        "SELECT ar.Name AS ArtistName, t.Name AS TrackName\n",
        "  FROM tracks t\n",
        "LEFT JOIN genres g\n",
        "  ON t.GenreId = g.GenreId\n",
        "LEFT JOIN media_types mt\n",
        "  ON t.MediaTypeId = mt.MediaTypeId\n",
        "LEFT JOIN albums al\n",
        "  ON al.AlbumId = t.AlbumId\n",
        "LEFT JOIN artists ar\n",
        "  ON al.ArtistId = ar.ArtistId\n",
        "  WHERE g.Name LIKE \"Blues\" AND mt.Name LIKE \"MPEG%\"\n",
        "  ORDER BY t.Bytes DESC\n",
        "  LIMIT 10;"
      ],
      "execution_count": 36,
      "outputs": [
        {
          "output_type": "stream",
          "name": "stdout",
          "text": [
            " * sqlite:///chinook.db\n",
            "Done.\n"
          ]
        },
        {
          "output_type": "execute_result",
          "data": {
            "text/plain": [
              "[('Buddy Guy', \"Talkin' 'Bout Women Obviously\"),\n",
              " ('Stevie Ray Vaughan & Double Trouble', 'Riviera Paradise'),\n",
              " ('The Black Crowes', 'Title Song'),\n",
              " ('Eric Clapton', 'Old Love'),\n",
              " ('The Black Crowes', 'Wiser Time'),\n",
              " ('Buddy Guy', 'Stone Crazy'),\n",
              " ('Eric Clapton', 'Layla'),\n",
              " ('The Black Crowes', 'Girl From A Pawnshop'),\n",
              " ('The Black Crowes', 'Sometimes Salvation'),\n",
              " ('Eric Clapton', 'Running On Faith')]"
            ],
            "text/html": [
              "<table>\n",
              "    <thead>\n",
              "        <tr>\n",
              "            <th>ArtistName</th>\n",
              "            <th>TrackName</th>\n",
              "        </tr>\n",
              "    </thead>\n",
              "    <tbody>\n",
              "        <tr>\n",
              "            <td>Buddy Guy</td>\n",
              "            <td>Talkin&#x27; &#x27;Bout Women Obviously</td>\n",
              "        </tr>\n",
              "        <tr>\n",
              "            <td>Stevie Ray Vaughan &amp; Double Trouble</td>\n",
              "            <td>Riviera Paradise</td>\n",
              "        </tr>\n",
              "        <tr>\n",
              "            <td>The Black Crowes</td>\n",
              "            <td>Title Song</td>\n",
              "        </tr>\n",
              "        <tr>\n",
              "            <td>Eric Clapton</td>\n",
              "            <td>Old Love</td>\n",
              "        </tr>\n",
              "        <tr>\n",
              "            <td>The Black Crowes</td>\n",
              "            <td>Wiser Time</td>\n",
              "        </tr>\n",
              "        <tr>\n",
              "            <td>Buddy Guy</td>\n",
              "            <td>Stone Crazy</td>\n",
              "        </tr>\n",
              "        <tr>\n",
              "            <td>Eric Clapton</td>\n",
              "            <td>Layla</td>\n",
              "        </tr>\n",
              "        <tr>\n",
              "            <td>The Black Crowes</td>\n",
              "            <td>Girl From A Pawnshop</td>\n",
              "        </tr>\n",
              "        <tr>\n",
              "            <td>The Black Crowes</td>\n",
              "            <td>Sometimes Salvation</td>\n",
              "        </tr>\n",
              "        <tr>\n",
              "            <td>Eric Clapton</td>\n",
              "            <td>Running On Faith</td>\n",
              "        </tr>\n",
              "    </tbody>\n",
              "</table>"
            ]
          },
          "metadata": {},
          "execution_count": 36
        }
      ]
    },
    {
      "cell_type": "markdown",
      "metadata": {
        "id": "0mmLXQXr7LlG"
      },
      "source": [
        "## Задание 3\n",
        "Для каждой компании вывести общее количество купленных джазовых композиций.\n"
      ]
    },
    {
      "cell_type": "code",
      "metadata": {
        "id": "9kcvxk8OCrby",
        "colab": {
          "base_uri": "https://localhost:8080/",
          "height": 289
        },
        "outputId": "027c4993-47d8-4114-a6f2-9b823b8c707a"
      },
      "source": [
        "%%sql\n",
        "\n",
        "WITH companies AS ( SELECT c.Company as Name\n",
        "    FROM customers c\n",
        "    WHERE c.Company IS NOT NULL\n",
        "    GROUP BY c.Company\n",
        "  )\n",
        "\n",
        "SELECT co.Name as CompanyName,\n",
        "  (\n",
        "    SELECT COALESCE(SUM(ii.Quantity),0)\n",
        "      FROM invoices i\n",
        "    LEFT JOIN customers cu\n",
        "      ON i.CustomerId = cu.CustomerId\n",
        "    LEFT JOIN invoice_items ii\n",
        "      ON ii.InvoiceId = i.InvoiceId\n",
        "    LEFT JOIN tracks t\n",
        "      ON ii.TrackId = t.TrackId\n",
        "    LEFT JOIN genres g\n",
        "      ON t.GenreId = g.GenreId\n",
        "      WHERE co.Name = cu.Company AND g.Name LIKE \"Jazz\"\n",
        "  ) as BoughtTracks\n",
        "  FROM\n",
        "    companies co;"
      ],
      "execution_count": 74,
      "outputs": [
        {
          "output_type": "stream",
          "name": "stdout",
          "text": [
            " * sqlite:///chinook.db\n",
            "Done.\n"
          ]
        },
        {
          "output_type": "execute_result",
          "data": {
            "text/plain": [
              "[('Apple Inc.', 2),\n",
              " ('Banco do Brasil S.A.', 0),\n",
              " ('Embraer - Empresa Brasileira de Aeronáutica S.A.', 0),\n",
              " ('Google Inc.', 2),\n",
              " ('JetBrains s.r.o.', 3),\n",
              " ('Microsoft Corporation', 2),\n",
              " ('Riotur', 0),\n",
              " ('Rogers Canada', 0),\n",
              " ('Telus', 2),\n",
              " ('Woodstock Discos', 0)]"
            ],
            "text/html": [
              "<table>\n",
              "    <thead>\n",
              "        <tr>\n",
              "            <th>CompanyName</th>\n",
              "            <th>BoughtTracks</th>\n",
              "        </tr>\n",
              "    </thead>\n",
              "    <tbody>\n",
              "        <tr>\n",
              "            <td>Apple Inc.</td>\n",
              "            <td>2</td>\n",
              "        </tr>\n",
              "        <tr>\n",
              "            <td>Banco do Brasil S.A.</td>\n",
              "            <td>0</td>\n",
              "        </tr>\n",
              "        <tr>\n",
              "            <td>Embraer - Empresa Brasileira de Aeronáutica S.A.</td>\n",
              "            <td>0</td>\n",
              "        </tr>\n",
              "        <tr>\n",
              "            <td>Google Inc.</td>\n",
              "            <td>2</td>\n",
              "        </tr>\n",
              "        <tr>\n",
              "            <td>JetBrains s.r.o.</td>\n",
              "            <td>3</td>\n",
              "        </tr>\n",
              "        <tr>\n",
              "            <td>Microsoft Corporation</td>\n",
              "            <td>2</td>\n",
              "        </tr>\n",
              "        <tr>\n",
              "            <td>Riotur</td>\n",
              "            <td>0</td>\n",
              "        </tr>\n",
              "        <tr>\n",
              "            <td>Rogers Canada</td>\n",
              "            <td>0</td>\n",
              "        </tr>\n",
              "        <tr>\n",
              "            <td>Telus</td>\n",
              "            <td>2</td>\n",
              "        </tr>\n",
              "        <tr>\n",
              "            <td>Woodstock Discos</td>\n",
              "            <td>0</td>\n",
              "        </tr>\n",
              "    </tbody>\n",
              "</table>"
            ]
          },
          "metadata": {},
          "execution_count": 74
        }
      ]
    },
    {
      "cell_type": "markdown",
      "metadata": {
        "id": "M2JDkqnT7LlG"
      },
      "source": [
        "## Задание 4\n",
        "Вывести топ 3 альбома по продолжительности (продолжительность альбома - сумма длин треков в нём). Только название и продолжительность.\n"
      ]
    },
    {
      "cell_type": "code",
      "metadata": {
        "id": "isEzp0r0Crzy",
        "colab": {
          "base_uri": "https://localhost:8080/",
          "height": 139
        },
        "outputId": "845fb475-1825-40a4-d7da-d52bf95ae7af"
      },
      "source": [
        "%%sql\n",
        "SELECT a1.Title AS AlbumTitle, (\n",
        "    SELECT COALESCE(SUM(t.Milliseconds),0)\n",
        "      FROM tracks t\n",
        "    LEFT JOIN albums a2\n",
        "      ON t.AlbumId = a2.AlbumId\n",
        "      WHERE a1.AlbumId = a2.AlbumId\n",
        "  ) as AlbumLength\n",
        "  FROM albums a1\n",
        "  ORDER BY AlbumLength DESC\n",
        "  LIMIT 3;"
      ],
      "execution_count": 86,
      "outputs": [
        {
          "output_type": "stream",
          "name": "stdout",
          "text": [
            " * sqlite:///chinook.db\n",
            "Done.\n"
          ]
        },
        {
          "output_type": "execute_result",
          "data": {
            "text/plain": [
              "[('Lost, Season 3', 70665582),\n",
              " ('Battlestar Galactica (Classic), Season 1', 70213784),\n",
              " ('Lost, Season 1', 64854936)]"
            ],
            "text/html": [
              "<table>\n",
              "    <thead>\n",
              "        <tr>\n",
              "            <th>AlbumTitle</th>\n",
              "            <th>AlbumLength</th>\n",
              "        </tr>\n",
              "    </thead>\n",
              "    <tbody>\n",
              "        <tr>\n",
              "            <td>Lost, Season 3</td>\n",
              "            <td>70665582</td>\n",
              "        </tr>\n",
              "        <tr>\n",
              "            <td>Battlestar Galactica (Classic), Season 1</td>\n",
              "            <td>70213784</td>\n",
              "        </tr>\n",
              "        <tr>\n",
              "            <td>Lost, Season 1</td>\n",
              "            <td>64854936</td>\n",
              "        </tr>\n",
              "    </tbody>\n",
              "</table>"
            ]
          },
          "metadata": {},
          "execution_count": 86
        }
      ]
    },
    {
      "cell_type": "markdown",
      "metadata": {
        "id": "Ni7Mi7ur7LlH"
      },
      "source": [
        "## Задание 5\n",
        "Для каждого набора (жанр, тип медиа) вывести среднюю цену по стоимости трека и их общее количество, причем вывести только те наборы, для которых **все** треки стоят больше 1,5$ и для которых в наборе есть хотя бы один трек."
      ]
    },
    {
      "cell_type": "code",
      "metadata": {
        "id": "TooWokIqCsIi",
        "colab": {
          "base_uri": "https://localhost:8080/"
        },
        "outputId": "fb88cad7-6e7d-42f0-dfd8-3631f2bc3c51"
      },
      "source": [
        "%%sql\n",
        "\n",
        "SELECT DISTINCT g.Name AS GenreName, mt.Name AS MediaTypeName,\n",
        "  (\n",
        "    SELECT ROUND(AVG(ii.UnitPrice),2)\n",
        "      FROM invoice_items ii\n",
        "    LEFT JOIN tracks t2\n",
        "      ON ii.TrackId = t2.TrackId\n",
        "      WHERE t2.GenreId = g.GenreId AND t2.MediaTypeId = mt.MediaTypeId AND ii.UnitPrice > 1.5\n",
        "      GROUP BY t2.TrackId\n",
        "  ) AS AveragePrice,\n",
        "  (\n",
        "    SELECT COUNT(*)\n",
        "      FROM tracks t2\n",
        "      WHERE t2.GenreId = g.GenreId AND t2.MediaTypeId = mt.MediaTypeId AND ii.UnitPrice > 1.5\n",
        "  ) as TracksCount\n",
        "  FROM (genres g, media_types mt)\n",
        "LEFT JOIN tracks t1\n",
        "  ON t1.GenreId = g.GenreId AND t1.MediaTypeId = mt.MediaTypeId\n",
        "  WHERE AveragePrice IS NOT NULL"
      ],
      "execution_count": 100,
      "outputs": [
        {
          "output_type": "stream",
          "name": "stdout",
          "text": [
            " * sqlite:///chinook.db\n",
            "(sqlite3.OperationalError) no such column: ii.UnitPrice\n",
            "[SQL: SELECT DISTINCT g.Name AS GenreName, mt.Name AS MediaTypeName,\n",
            "  (\n",
            "    SELECT ROUND(AVG(ii.UnitPrice),2)\n",
            "      FROM invoice_items ii\n",
            "    LEFT JOIN tracks t2\n",
            "      ON ii.TrackId = t2.TrackId\n",
            "      WHERE t2.GenreId = g.GenreId AND t2.MediaTypeId = mt.MediaTypeId AND ii.UnitPrice > 1.5\n",
            "      GROUP BY t2.TrackId\n",
            "  ) AS AveragePrice,\n",
            "  (\n",
            "    SELECT COUNT(*)\n",
            "      FROM tracks t2\n",
            "      WHERE t2.GenreId = g.GenreId AND t2.MediaTypeId = mt.MediaTypeId AND ii.UnitPrice > 1.5\n",
            "  ) as TracksCount\n",
            "  FROM (genres g, media_types mt)\n",
            "LEFT JOIN tracks t1\n",
            "  ON t1.GenreId = g.GenreId AND t1.MediaTypeId = mt.MediaTypeId\n",
            "  WHERE AveragePrice IS NOT NULL]\n",
            "(Background on this error at: https://sqlalche.me/e/20/e3q8)\n"
          ]
        }
      ]
    }
  ]
}