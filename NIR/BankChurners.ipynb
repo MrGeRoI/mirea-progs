{
 "cells": [
  {
   "attachments": {},
   "cell_type": "markdown",
   "id": "35abe2e5",
   "metadata": {},
   "source": [
    "Практическая работа №4. Классификация. Вариант 19"
   ]
  },
  {
   "cell_type": "code",
   "execution_count": null,
   "id": "49631710",
   "metadata": {},
   "outputs": [],
   "source": [
    "import pandas as pd\n",
    "import numpy as np\n",
    "from sklearn.model_selection import cross_val_score\n",
    "from sklearn.linear_model import LogisticRegression\n",
    "from sklearn.model_selection import train_test_split"
   ]
  },
  {
   "attachments": {},
   "cell_type": "markdown",
   "id": "5f99fde1",
   "metadata": {},
   "source": [
    "BankChurners.csv - файл с данными.\n",
    "\n",
    "\tБизнес-менеджер портфеля потребительских кредитных карт сталкивается с проблемой оттока клиентов. Они хотят проанализировать данные, чтобы выяснить причину этого, и использовать ее для прогнозирования клиентов, которые, скорее всего, уйдут.\n",
    "\n",
    "Удаляю ненужные столбцы из data:\n",
    "\n",
    "\tCLIENTNUM - Номер клиента. Уникальный идентификатор клиента, владеющего учетной записью.\n",
    "\n",
    "ПОЖАЛУЙСТА, ПРОИГНОРИРУЙТЕ ПОСЛЕДНИЕ 2 СТОЛБЦА (NAIVE BAYES CLAS…). Я ПРЕДЛАГАЮ СКОРЕЕ УДАЛИТЬ ЕГО, ПРЕЖДЕ ЧЕМ ЧТО-ЛИБО ДЕЛАТЬ** (c)\n",
    "\n",
    "\tNaive_Bayes_Classifier_Attrition_Flag_Card_Category_Contacts_Count_12_mon_Dependent_count_Education_Level_Months_Inactive_12_mon_1 \tNaive_Bayes_Classifier_Attrition_Flag_Card_Category_Contacts_Count_12_mon_Dependent_count_Education_Level_Months_Inactive_12_mon_2\n",
    "\n",
    "Далее меняю столбцы на дамми-перем\n",
    "енные:\n",
    "\n",
    "\tAttrition_Flag - Переменная внутреннего события (активность клиента). Меняю на 1, если активна (Existing Customer), иначе на 0 (Attrited Customer).\n",
    "\tGender - Переменная, отвечающая за пол. Меняю на: 0 - женский, 1 - мужской\n",
    "\n",
    "В итоге выводим отредактированный набор данных data."
   ]
  },
  {
   "cell_type": "code",
   "execution_count": 8,
   "id": "efbdd5a5",
   "metadata": {},
   "outputs": [
    {
     "name": "stdout",
     "output_type": "stream",
     "text": [
      "       Attrition_Flag  Customer_Age  Gender  Dependent_count Education_Level  \\\n",
      "0                   0            45       1                3     High School   \n",
      "1                   0            49       0                5        Graduate   \n",
      "2                   0            51       1                3        Graduate   \n",
      "3                   0            40       0                4     High School   \n",
      "4                   0            40       1                3      Uneducated   \n",
      "...               ...           ...     ...              ...             ...   \n",
      "10122               0            50       1                2        Graduate   \n",
      "10123               1            41       1                2         Unknown   \n",
      "10124               1            44       0                1     High School   \n",
      "10125               1            30       1                2        Graduate   \n",
      "10126               1            43       0                2        Graduate   \n",
      "\n",
      "      Marital_Status Income_Category Card_Category  Months_on_book  \\\n",
      "0            Married     $60K - $80K          Blue              39   \n",
      "1             Single  Less than $40K          Blue              44   \n",
      "2            Married    $80K - $120K          Blue              36   \n",
      "3            Unknown  Less than $40K          Blue              34   \n",
      "4            Married     $60K - $80K          Blue              21   \n",
      "...              ...             ...           ...             ...   \n",
      "10122         Single     $40K - $60K          Blue              40   \n",
      "10123       Divorced     $40K - $60K          Blue              25   \n",
      "10124        Married  Less than $40K          Blue              36   \n",
      "10125        Unknown     $40K - $60K          Blue              36   \n",
      "10126        Married  Less than $40K        Silver              25   \n",
      "\n",
      "       Total_Relationship_Count  Months_Inactive_12_mon  \\\n",
      "0                             5                       1   \n",
      "1                             6                       1   \n",
      "2                             4                       1   \n",
      "3                             3                       4   \n",
      "4                             5                       1   \n",
      "...                         ...                     ...   \n",
      "10122                         3                       2   \n",
      "10123                         4                       2   \n",
      "10124                         5                       3   \n",
      "10125                         4                       3   \n",
      "10126                         6                       2   \n",
      "\n",
      "       Contacts_Count_12_mon  Credit_Limit  Total_Revolving_Bal  \\\n",
      "0                          3       12691.0                  777   \n",
      "1                          2        8256.0                  864   \n",
      "2                          0        3418.0                    0   \n",
      "3                          1        3313.0                 2517   \n",
      "4                          0        4716.0                    0   \n",
      "...                      ...           ...                  ...   \n",
      "10122                      3        4003.0                 1851   \n",
      "10123                      3        4277.0                 2186   \n",
      "10124                      4        5409.0                    0   \n",
      "10125                      3        5281.0                    0   \n",
      "10126                      4       10388.0                 1961   \n",
      "\n",
      "       Avg_Open_To_Buy  Total_Amt_Chng_Q4_Q1  Total_Trans_Amt  Total_Trans_Ct  \\\n",
      "0              11914.0                 1.335             1144              42   \n",
      "1               7392.0                 1.541             1291              33   \n",
      "2               3418.0                 2.594             1887              20   \n",
      "3                796.0                 1.405             1171              20   \n",
      "4               4716.0                 2.175              816              28   \n",
      "...                ...                   ...              ...             ...   \n",
      "10122           2152.0                 0.703            15476             117   \n",
      "10123           2091.0                 0.804             8764              69   \n",
      "10124           5409.0                 0.819            10291              60   \n",
      "10125           5281.0                 0.535             8395              62   \n",
      "10126           8427.0                 0.703            10294              61   \n",
      "\n",
      "       Total_Ct_Chng_Q4_Q1  Avg_Utilization_Ratio  \n",
      "0                    1.625                  0.061  \n",
      "1                    3.714                  0.105  \n",
      "2                    2.333                  0.000  \n",
      "3                    2.333                  0.760  \n",
      "4                    2.500                  0.000  \n",
      "...                    ...                    ...  \n",
      "10122                0.857                  0.462  \n",
      "10123                0.683                  0.511  \n",
      "10124                0.818                  0.000  \n",
      "10125                0.722                  0.000  \n",
      "10126                0.649                  0.189  \n",
      "\n",
      "[10127 rows x 20 columns]\n"
     ]
    }
   ],
   "source": [
    "data = pd.read_csv(\"BankChurners.csv\", delimiter=',')\n",
    "data.drop(\"CLIENTNUM\", axis=1, inplace=True)\n",
    "data.drop(\"Naive_Bayes_Classifier_Attrition_Flag_Card_Category_Contacts_Count_12_mon_Dependent_count_Education_Level_Months_Inactive_12_mon_2\", axis=1, inplace=True)\n",
    "data.drop(\"Naive_Bayes_Classifier_Attrition_Flag_Card_Category_Contacts_Count_12_mon_Dependent_count_Education_Level_Months_Inactive_12_mon_1\", axis=1, inplace=True)\n",
    "data[\"Attrition_Flag\"] = np.where(data[\"Attrition_Flag\"] == \"Existing Customer\", 0, 1)\n",
    "data[\"Gender\"] = np.where(data[\"Gender\"] == 'F', 0, 1)\n",
    "\n",
    "print(data)"
   ]
  },
  {
   "attachments": {},
   "cell_type": "markdown",
   "id": "b917221e",
   "metadata": {},
   "source": [
    "Всё успешно отредатировалось. Удаляем все строки с NA полями."
   ]
  },
  {
   "cell_type": "code",
   "execution_count": 9,
   "id": "dc422a52",
   "metadata": {},
   "outputs": [],
   "source": [
    "data = data.dropna()"
   ]
  },
  {
   "attachments": {},
   "cell_type": "markdown",
   "id": "d6b3c79d",
   "metadata": {},
   "source": [
    "Ввожу остальные дамми-переменные, которые отвечают за уровень образование, брачный статус, категорию.\n",
    "\n",
    "\tEducation_Level - Демографическая переменная - Образовательный ценз владельца учетной записи (пример: выпускник средней школы, колледжа и т.д.)\n",
    "\tMarital_Status - Демографическая переменная - Женат, не женат, разведен, неизвестен\n",
    "\tCard_Category - Параметр продукта - Тип карты (синяя, серебряная, золотая, платиновая)"
   ]
  },
  {
   "cell_type": "code",
   "execution_count": 10,
   "id": "5885e57a",
   "metadata": {},
   "outputs": [
    {
     "name": "stdout",
     "output_type": "stream",
     "text": [
      "<class 'pandas.core.frame.DataFrame'>\n",
      "RangeIndex: 10127 entries, 0 to 10126\n",
      "Data columns (total 30 columns):\n",
      " #   Column                    Non-Null Count  Dtype  \n",
      "---  ------                    --------------  -----  \n",
      " 0   Attrition_Flag            10127 non-null  int32  \n",
      " 1   Customer_Age              10127 non-null  int64  \n",
      " 2   Gender                    10127 non-null  int32  \n",
      " 3   Dependent_count           10127 non-null  int64  \n",
      " 4   Education_Level           10127 non-null  object \n",
      " 5   Marital_Status            10127 non-null  object \n",
      " 6   Income_Category           10127 non-null  object \n",
      " 7   Card_Category             10127 non-null  object \n",
      " 8   Months_on_book            10127 non-null  int64  \n",
      " 9   Total_Relationship_Count  10127 non-null  int64  \n",
      " 10  Months_Inactive_12_mon    10127 non-null  int64  \n",
      " 11  Contacts_Count_12_mon     10127 non-null  int64  \n",
      " 12  Credit_Limit              10127 non-null  float64\n",
      " 13  Total_Revolving_Bal       10127 non-null  int64  \n",
      " 14  Avg_Open_To_Buy           10127 non-null  float64\n",
      " 15  Total_Amt_Chng_Q4_Q1      10127 non-null  float64\n",
      " 16  Total_Trans_Amt           10127 non-null  int64  \n",
      " 17  Total_Trans_Ct            10127 non-null  int64  \n",
      " 18  Total_Ct_Chng_Q4_Q1       10127 non-null  float64\n",
      " 19  Avg_Utilization_Ratio     10127 non-null  float64\n",
      " 20  isgraduate                10127 non-null  int32  \n",
      " 21  ishigh                    10127 non-null  int32  \n",
      " 22  isunknowneduc             10127 non-null  int32  \n",
      " 23  ismarried                 10127 non-null  int32  \n",
      " 24  issingle                  10127 non-null  int32  \n",
      " 25  isunknownmar              10127 non-null  int32  \n",
      " 26  issilver                  10127 non-null  int32  \n",
      " 27  isblue                    10127 non-null  int32  \n",
      " 28  isgold                    10127 non-null  int32  \n",
      " 29  isplatinum                10127 non-null  int32  \n",
      "dtypes: float64(5), int32(12), int64(9), object(4)\n",
      "memory usage: 1.9+ MB\n",
      "None\n"
     ]
    }
   ],
   "source": [
    "data[\"isgraduate\"] = np.where(data[\"Education_Level\"]==\"Graduate\", 1, 0)\n",
    "data[\"ishigh\"] = np.where(data[\"Education_Level\"]==\"High School\", 1, 0)\n",
    "data[\"isunknowneduc\"] = np.where(data[\"Education_Level\"]==\"Unknown\", 1, 0)\n",
    "data[\"ismarried\"] = np.where(data[\"Marital_Status\"]==\"Married\",1, 0)\n",
    "data[\"issingle\"] = np.where(data[\"Marital_Status\"] ==\"Single\", 1, 0)\n",
    "data[\"isunknownmar\"] = np.where(data[\"Marital_Status\"] ==\"Unknown\", 1, 0)\n",
    "data[\"issilver\"] = np.where(data[\"Card_Category\"]==\"Silver\", 1, 0)\n",
    "data[\"isblue\"] = np.where(data[\"Card_Category\"]==\"Blue\", 1, 0)\n",
    "data[\"isgold\"] = np.where(data[\"Card_Category\"]==\"Gold\", 1, 0)\n",
    "data[\"isplatinum\"] = np.where(data[\"Card_Category\"]==\"Platinum\", 1, 0)\n",
    "print(data.info())\n"
   ]
  },
  {
   "attachments": {},
   "cell_type": "markdown",
   "id": "3d3d8d33",
   "metadata": {},
   "source": [
    "Добавляю в набор данных дамми-перменные связанные с уровнем дохода. Разделяю на категории уровня дохода.\n",
    "\n",
    "\tIncome_Category - Демографическая переменная - Категория годового дохода владельца счета (< $40 тыс., $40 тыс. - 60 тыс., $60 тыс. - $80 тыс., $80 тыс.-$120 тыс., >"
   ]
  },
  {
   "cell_type": "code",
   "execution_count": 11,
   "id": "c801d522",
   "metadata": {},
   "outputs": [],
   "source": [
    "data[\"<40k\"] = np.where(data[\"Income_Category\"]==\"Less than $40K\", 1, 0)\n",
    "data[\"$40K - $60K\"] = np.where(data[\"Income_Category\"]==\"$40K - $60K\", 1, 0)\n",
    "data[\"$60K - $80K\"] = np.where(data[\"Income_Category\"]==\"$60K - $80K\", 1, 0)\n",
    "data[\"$80K-$120K\"] = np.where(data[\"Income_Category\"]==\"$80K - $120K\", 1, 0)\n",
    "data[\"$120K+\"] = np.where(data[\"Income_Category\"]==\"$120K +\", 1, 0)\n"
   ]
  },
  {
   "attachments": {},
   "cell_type": "markdown",
   "id": "38bb9788",
   "metadata": {},
   "source": [
    "Удаляю из набора данных использованные столбцы, так как уже создал необходимые столбцы с дамми-переменными. Они больше не понадобятся для классификации."
   ]
  },
  {
   "cell_type": "code",
   "execution_count": 12,
   "id": "3d347619",
   "metadata": {},
   "outputs": [
    {
     "name": "stdout",
     "output_type": "stream",
     "text": [
      "<bound method DataFrame.info of        Attrition_Flag  Customer_Age  Gender  Dependent_count  Months_on_book  \\\n",
      "0                   0            45       1                3              39   \n",
      "1                   0            49       0                5              44   \n",
      "2                   0            51       1                3              36   \n",
      "3                   0            40       0                4              34   \n",
      "4                   0            40       1                3              21   \n",
      "...               ...           ...     ...              ...             ...   \n",
      "10122               0            50       1                2              40   \n",
      "10123               1            41       1                2              25   \n",
      "10124               1            44       0                1              36   \n",
      "10125               1            30       1                2              36   \n",
      "10126               1            43       0                2              25   \n",
      "\n",
      "       Total_Relationship_Count  Months_Inactive_12_mon  \\\n",
      "0                             5                       1   \n",
      "1                             6                       1   \n",
      "2                             4                       1   \n",
      "3                             3                       4   \n",
      "4                             5                       1   \n",
      "...                         ...                     ...   \n",
      "10122                         3                       2   \n",
      "10123                         4                       2   \n",
      "10124                         5                       3   \n",
      "10125                         4                       3   \n",
      "10126                         6                       2   \n",
      "\n",
      "       Contacts_Count_12_mon  Credit_Limit  Total_Revolving_Bal  ...  \\\n",
      "0                          3       12691.0                  777  ...   \n",
      "1                          2        8256.0                  864  ...   \n",
      "2                          0        3418.0                    0  ...   \n",
      "3                          1        3313.0                 2517  ...   \n",
      "4                          0        4716.0                    0  ...   \n",
      "...                      ...           ...                  ...  ...   \n",
      "10122                      3        4003.0                 1851  ...   \n",
      "10123                      3        4277.0                 2186  ...   \n",
      "10124                      4        5409.0                    0  ...   \n",
      "10125                      3        5281.0                    0  ...   \n",
      "10126                      4       10388.0                 1961  ...   \n",
      "\n",
      "       isunknownmar  issilver  isblue  isgold  isplatinum  <40k  $40K - $60K  \\\n",
      "0                 0         0       1       0           0     0            0   \n",
      "1                 0         0       1       0           0     1            0   \n",
      "2                 0         0       1       0           0     0            0   \n",
      "3                 1         0       1       0           0     1            0   \n",
      "4                 0         0       1       0           0     0            0   \n",
      "...             ...       ...     ...     ...         ...   ...          ...   \n",
      "10122             0         0       1       0           0     0            1   \n",
      "10123             0         0       1       0           0     0            1   \n",
      "10124             0         0       1       0           0     1            0   \n",
      "10125             1         0       1       0           0     0            1   \n",
      "10126             0         1       0       0           0     1            0   \n",
      "\n",
      "       $60K - $80K  $80K-$120K  $120K+  \n",
      "0                1           0       0  \n",
      "1                0           0       0  \n",
      "2                0           1       0  \n",
      "3                0           0       0  \n",
      "4                1           0       0  \n",
      "...            ...         ...     ...  \n",
      "10122            0           0       0  \n",
      "10123            0           0       0  \n",
      "10124            0           0       0  \n",
      "10125            0           0       0  \n",
      "10126            0           0       0  \n",
      "\n",
      "[10127 rows x 31 columns]>\n"
     ]
    }
   ],
   "source": [
    "data.drop(columns=[\"Education_Level\", \"Marital_Status\", \"Card_Category\", \"Income_Category\"], axis=1, inplace=True)\n",
    "print(data.info())"
   ]
  },
  {
   "attachments": {},
   "cell_type": "markdown",
   "id": "c026ba54",
   "metadata": {},
   "source": [
    "Выделяю целевой признак Gender и удаляю его из данных, на основе которых будет обучаться классификатор."
   ]
  },
  {
   "cell_type": "code",
   "execution_count": 13,
   "id": "b0732ce7",
   "metadata": {},
   "outputs": [],
   "source": [
    "Gender = data[\"Gender\"]\n",
    "X = data.drop(\"Gender\", axis=1)"
   ]
  },
  {
   "attachments": {},
   "cell_type": "markdown",
   "id": "d1cfafcb",
   "metadata": {},
   "source": [
    "# Логистическая регрессия"
   ]
  },
  {
   "attachments": {},
   "cell_type": "markdown",
   "id": "f553d947",
   "metadata": {},
   "source": [
    "Разделию набор данных на тестовую и обучающую выборку.\n",
    "\n",
    "Строю классификатор LogisticRegression (логистическая регрессия) с нормой штрафа L2.\n",
    "Алгоритм для использования в задаче оптимизации - lbfgs"
   ]
  },
  {
   "cell_type": "code",
   "execution_count": 17,
   "id": "e0813f40",
   "metadata": {},
   "outputs": [
    {
     "data": {
      "text/plain": [
       "LogisticRegression(max_iter=1000, multi_class='multinomial', random_state=0)"
      ]
     },
     "execution_count": 17,
     "metadata": {},
     "output_type": "execute_result"
    }
   ],
   "source": [
    "X_train, X_test, Y_train, Y_test = train_test_split(X, Gender, test_size=0.3)\n",
    "classifier = LogisticRegression(random_state = 0, solver = 'lbfgs', multi_class = 'multinomial', penalty = 'l2', max_iter=1000)#, penalty = 'elasticnet', l1_ration = '0.5' #'saga' \n",
    "classifier.fit(X_train, Y_train)"
   ]
  },
  {
   "attachments": {},
   "cell_type": "markdown",
   "id": "cbcdc55e",
   "metadata": {},
   "source": [
    "Оцениваю точность построенного классификатора логистической регрессии с помощью метрик precision, recall и F1 на тестовой выборке"
   ]
  },
  {
   "cell_type": "code",
   "execution_count": 18,
   "id": "6766322b",
   "metadata": {},
   "outputs": [
    {
     "data": {
      "text/plain": [
       "0.8733135899967095"
      ]
     },
     "execution_count": 18,
     "metadata": {},
     "output_type": "execute_result"
    }
   ],
   "source": [
    "y_pred = classifier.predict(X_test)\n",
    "classifier.score(X_test, Y_test)"
   ]
  },
  {
   "cell_type": "code",
   "execution_count": 20,
   "id": "29386473",
   "metadata": {},
   "outputs": [
    {
     "name": "stdout",
     "output_type": "stream",
     "text": [
      "1249 175 210 1405\n",
      "0.8771067415730337 0.8560657984921178 0.8664585501214014\n"
     ]
    }
   ],
   "source": [
    "TP = 0\n",
    "FP = 0\n",
    "FN = 0\n",
    "TN = 0\n",
    "for i in np.where(Y_test == 1)[0]:\n",
    "    if y_pred[i] == 1:\n",
    "        TP+=1\n",
    "    else:\n",
    "        FN+=1\n",
    "for i in np.where(Y_test == 0)[0]:\n",
    "    if y_pred[i] == 1:\n",
    "        FP+=1\n",
    "    else:\n",
    "        TN+=1\n",
    "print(TP,FP,FN, TN)\n",
    "precision = TP / (TP + FP)\n",
    "recall = TP/(TP + FN)\n",
    "F1 = 2* (precision*recall)/(precision+recall)\n",
    "print(precision, recall,F1)"
   ]
  },
  {
   "attachments": {},
   "cell_type": "markdown",
   "id": "12bb7615",
   "metadata": {},
   "source": [
    "# Случайный лес"
   ]
  },
  {
   "attachments": {},
   "cell_type": "markdown",
   "id": "88592e83",
   "metadata": {},
   "source": [
    "Строю классификатор Случайный Лес (Random Forest) из 100-300 (шаг 50) решающих деревьев и его оценка с помощью метрик accuracy, recall, f1, precision."
   ]
  },
  {
   "cell_type": "code",
   "execution_count": 25,
   "id": "91c665e6",
   "metadata": {},
   "outputs": [
    {
     "data": {
      "text/plain": [
       "GridSearchCV(cv=5, estimator=RandomForestClassifier(),\n",
       "             param_grid={'max_depth': [1, 2, 3, 4, 5, 6, 7, 8, 9, 10, 11, 12,\n",
       "                                       13, 14, 15, 16, 17, 18, 19],\n",
       "                         'max_features': ['auto'],\n",
       "                         'n_estimators': [100, 150, 200, 250, 300]})"
      ]
     },
     "execution_count": 25,
     "metadata": {},
     "output_type": "execute_result"
    }
   ],
   "source": [
    "from sklearn.ensemble import RandomForestClassifier\n",
    "from sklearn.model_selection import GridSearchCV\n",
    "\n",
    "param_grid = {'n_estimators':[100,150,200,250,300],'max_features':['auto'],'max_depth': list(range(1,20))}\n",
    "forest = GridSearchCV(estimator = RandomForestClassifier(),param_grid = param_grid,cv = 5, refit = True)\n",
    "forest.fit(X_train, Y_train)"
   ]
  },
  {
   "cell_type": "code",
   "execution_count": 26,
   "id": "1d93b9cb",
   "metadata": {},
   "outputs": [
    {
     "data": {
      "text/plain": [
       "RandomForestClassifier(max_depth=19, n_estimators=200)"
      ]
     },
     "execution_count": 26,
     "metadata": {},
     "output_type": "execute_result"
    }
   ],
   "source": [
    "forest.best_estimator_\n"
   ]
  },
  {
   "attachments": {},
   "cell_type": "markdown",
   "id": "503b0750",
   "metadata": {},
   "source": [
    "С помощью GridSearchCV выясняю, что лучшим классификатором по числу деревьев является Random Forest из 200 решающих деревьев и глубиной 19.\n",
    "Оцениваю точность построенного классификатора с помощью метрик accuracy, precision, recall и F1 на тестовой выборке."
   ]
  },
  {
   "cell_type": "code",
   "execution_count": 27,
   "id": "847b29b0",
   "metadata": {},
   "outputs": [
    {
     "name": "stdout",
     "output_type": "stream",
     "text": [
      "accuracy:0.8953546345270095\n",
      "f1:0.8835512453827515\n",
      "precision:0.9202133712536826\n",
      "recall:0.850560184531375\n"
     ]
    }
   ],
   "source": [
    "print(\"accuracy:\"+str(np.average(cross_val_score(forest.best_estimator_, X_test, Y_test, scoring='accuracy'))))\n",
    "print(\"f1:\"+str(np.average(cross_val_score(forest.best_estimator_, X_test, Y_test, scoring='f1'))))\n",
    "print(\"precision:\"+str(np.average(cross_val_score(forest.best_estimator_, X_test, Y_test, scoring='precision'))))\n",
    "print(\"recall:\"+str(np.average(cross_val_score(forest.best_estimator_, X_test, Y_test, scoring='recall'))))"
   ]
  },
  {
   "attachments": {},
   "cell_type": "markdown",
   "id": "23c219d3",
   "metadata": {},
   "source": [
    "Повышаю точность. Иду далее строить случайный лес из больше чем 200 деревьев (уменьшать смысла нет, так как у классификаторов, состоящих из менее, чем 200 деревьев хуже точность)\n",
    "\n",
    "С помощью GridSearchCV определяю, какой лес наилучший по количеству решающих деревьев Random Forest."
   ]
  },
  {
   "cell_type": "code",
   "execution_count": 29,
   "id": "8fc3c741",
   "metadata": {},
   "outputs": [
    {
     "data": {
      "text/plain": [
       "GridSearchCV(cv=5, estimator=RandomForestClassifier(),\n",
       "             param_grid={'max_depth': [19], 'max_features': ['auto'],\n",
       "                         'n_estimators': [200, 210, 220, 230, 240, 250]})"
      ]
     },
     "execution_count": 29,
     "metadata": {},
     "output_type": "execute_result"
    }
   ],
   "source": [
    "param_grid = {'n_estimators':list(range(200, 251, 10)),'max_features':['auto'],'max_depth': [19]} \n",
    "forest = GridSearchCV(estimator = RandomForestClassifier(),param_grid = param_grid,cv = 5, refit = True)\n",
    "forest.fit(X_train, Y_train)"
   ]
  },
  {
   "cell_type": "code",
   "execution_count": 31,
   "id": "ab9e1a65",
   "metadata": {},
   "outputs": [
    {
     "data": {
      "text/plain": [
       "RandomForestClassifier(max_depth=19, n_estimators=250)"
      ]
     },
     "execution_count": 31,
     "metadata": {},
     "output_type": "execute_result"
    }
   ],
   "source": [
    "forest.best_estimator_"
   ]
  },
  {
   "cell_type": "code",
   "execution_count": 32,
   "id": "5784dd3f",
   "metadata": {},
   "outputs": [
    {
     "data": {
      "text/plain": [
       "GridSearchCV(cv=5, estimator=RandomForestClassifier(),\n",
       "             param_grid={'max_depth': [19], 'max_features': ['auto'],\n",
       "                         'n_estimators': [230, 240, 250, 260, 270]})"
      ]
     },
     "execution_count": 32,
     "metadata": {},
     "output_type": "execute_result"
    }
   ],
   "source": [
    "param_grid = {'n_estimators':list(range(230, 271, 10)),'max_features':['auto'],'max_depth': [19]} \n",
    "forest = GridSearchCV(estimator = RandomForestClassifier(),param_grid = param_grid,cv = 5, refit = True)\n",
    "forest.fit(X_train, Y_train)"
   ]
  },
  {
   "cell_type": "code",
   "execution_count": 33,
   "id": "8941cf9b",
   "metadata": {},
   "outputs": [
    {
     "data": {
      "text/plain": [
       "RandomForestClassifier(max_depth=19, n_estimators=240)"
      ]
     },
     "execution_count": 33,
     "metadata": {},
     "output_type": "execute_result"
    }
   ],
   "source": [
    "forest.best_estimator_"
   ]
  },
  {
   "cell_type": "code",
   "execution_count": 35,
   "id": "bda07872",
   "metadata": {},
   "outputs": [
    {
     "data": {
      "text/plain": [
       "GridSearchCV(cv=5, estimator=RandomForestClassifier(),\n",
       "             param_grid={'max_depth': [19], 'max_features': ['auto'],\n",
       "                         'n_estimators': [240, 245, 250]})"
      ]
     },
     "execution_count": 35,
     "metadata": {},
     "output_type": "execute_result"
    }
   ],
   "source": [
    "param_grid = {'n_estimators':list(range(240, 255, 5)),'max_features':['auto'],'max_depth': [19]} \n",
    "forest = GridSearchCV(estimator = RandomForestClassifier(),param_grid = param_grid,cv = 5, refit = True)\n",
    "forest.fit(X_train, Y_train)"
   ]
  },
  {
   "cell_type": "code",
   "execution_count": 36,
   "id": "4d1233c4",
   "metadata": {},
   "outputs": [
    {
     "data": {
      "text/plain": [
       "RandomForestClassifier(max_depth=19, n_estimators=250)"
      ]
     },
     "execution_count": 36,
     "metadata": {},
     "output_type": "execute_result"
    }
   ],
   "source": [
    "forest.best_estimator_"
   ]
  },
  {
   "cell_type": "code",
   "execution_count": 37,
   "id": "c84a6b12",
   "metadata": {},
   "outputs": [
    {
     "data": {
      "text/plain": [
       "GridSearchCV(cv=5, estimator=RandomForestClassifier(),\n",
       "             param_grid={'max_depth': [19], 'max_features': ['auto'],\n",
       "                         'n_estimators': [240, 243, 246, 249, 252]})"
      ]
     },
     "execution_count": 37,
     "metadata": {},
     "output_type": "execute_result"
    }
   ],
   "source": [
    "param_grid = {'n_estimators':list(range(240, 255, 3)),'max_features':['auto'],'max_depth': [19]} \n",
    "forest = GridSearchCV(estimator = RandomForestClassifier(),param_grid = param_grid,cv = 5, refit = True)\n",
    "forest.fit(X_train, Y_train)"
   ]
  },
  {
   "cell_type": "code",
   "execution_count": null,
   "id": "38bf4d18",
   "metadata": {},
   "outputs": [
    {
     "data": {
      "text/plain": [
       "RandomForestClassifier(max_depth=19, n_estimators=243)"
      ]
     },
     "execution_count": 38,
     "metadata": {},
     "output_type": "execute_result"
    }
   ],
   "source": [
    "forest.best_estimator_"
   ]
  },
  {
   "attachments": {},
   "cell_type": "markdown",
   "id": "b00fd0de",
   "metadata": {},
   "source": [
    "Я пришёл к лучшему результату для классификатора решающее дерево. Сравниваю его показатели с классификатором логистической регрессии:\n",
    "\n",
    "Random Forest:\n",
    "\taccuracy:\t0.8953546345270095\n",
    "\tf1:\t\t\t0.8835512453827515\n",
    "\tprecision:\t0.9202133712536826\n",
    "\trecall:\t\t0.850560184531375\n",
    "\n",
    "Logistic Regression:\n",
    "\taccuracy:\t0.8771067415730337\n",
    "\tf1:\t\t\t0.8560657984921178\n",
    "\tprecision:\t0.8664585501214014\n",
    "\trecall:\t\t0.8733135899967095\n",
    "\n",
    "Из данных метрик заметно, что все значения метрик выше у Random Forest из 243 решающих деревьев чем у Logistic Regression.\n",
    "\n",
    "Отсюда делаю вывод, что лучшим из классификаторов оказался Random Forest из 243 решающих деревьев, исходя из значений метрик: accuracy, f1, recall, precision."
   ]
  }
 ],
 "metadata": {
  "kernelspec": {
   "display_name": "Python 3 (ipykernel)",
   "language": "python",
   "name": "python3"
  },
  "language_info": {
   "codemirror_mode": {
    "name": "ipython",
    "version": 3
   },
   "file_extension": ".py",
   "mimetype": "text/x-python",
   "name": "python",
   "nbconvert_exporter": "python",
   "pygments_lexer": "ipython3",
   "version": "3.11.3"
  }
 },
 "nbformat": 4,
 "nbformat_minor": 5
}
