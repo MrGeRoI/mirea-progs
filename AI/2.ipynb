{
  "metadata": {
    "language_info": {
      "codemirror_mode": {
        "name": "python",
        "version": 3
      },
      "file_extension": ".py",
      "mimetype": "text/x-python",
      "name": "python",
      "nbconvert_exporter": "python",
      "pygments_lexer": "ipython3",
      "version": "3.8"
    },
    "kernelspec": {
      "name": "python",
      "display_name": "Python (Pyodide)",
      "language": "python"
    }
  },
  "nbformat_minor": 4,
  "nbformat": 4,
  "cells": [
    {
      "cell_type": "markdown",
      "source": "1.3.1",
      "metadata": {}
    },
    {
      "cell_type": "code",
      "source": "import numpy as np\nimport numpy.random as rnd\n\nA = (np.arange(0,64) % 2).reshape(8,8)#[[(j+i) % 2 for j in range(0,8)] for i in range(0,8)]\nA",
      "metadata": {
        "trusted": true
      },
      "execution_count": 73,
      "outputs": [
        {
          "execution_count": 73,
          "output_type": "execute_result",
          "data": {
            "text/plain": "array([[0, 1, 0, 1, 0, 1, 0, 1],\n       [0, 1, 0, 1, 0, 1, 0, 1],\n       [0, 1, 0, 1, 0, 1, 0, 1],\n       [0, 1, 0, 1, 0, 1, 0, 1],\n       [0, 1, 0, 1, 0, 1, 0, 1],\n       [0, 1, 0, 1, 0, 1, 0, 1],\n       [0, 1, 0, 1, 0, 1, 0, 1],\n       [0, 1, 0, 1, 0, 1, 0, 1]], dtype=int32)"
          },
          "metadata": {}
        }
      ]
    },
    {
      "cell_type": "markdown",
      "source": "1.3.2",
      "metadata": {}
    },
    {
      "cell_type": "code",
      "source": "A = [np.arange(0,5) for _ in range(0,5)]\nA",
      "metadata": {
        "trusted": true
      },
      "execution_count": 58,
      "outputs": [
        {
          "execution_count": 58,
          "output_type": "execute_result",
          "data": {
            "text/plain": "[array([0, 1, 2, 3, 4]),\n array([0, 1, 2, 3, 4]),\n array([0, 1, 2, 3, 4]),\n array([0, 1, 2, 3, 4]),\n array([0, 1, 2, 3, 4])]"
          },
          "metadata": {}
        }
      ]
    },
    {
      "cell_type": "markdown",
      "source": "1.3.3",
      "metadata": {}
    },
    {
      "cell_type": "code",
      "source": "A = rnd.randint(10,size=(3,3,3))\nA",
      "metadata": {
        "trusted": true
      },
      "execution_count": 65,
      "outputs": [
        {
          "execution_count": 65,
          "output_type": "execute_result",
          "data": {
            "text/plain": "array([[[6, 3, 1],\n        [6, 3, 2],\n        [4, 9, 3]],\n\n       [[4, 3, 6],\n        [1, 9, 1],\n        [8, 9, 7]],\n\n       [[8, 1, 2],\n        [0, 5, 2],\n        [5, 9, 5]]])"
          },
          "metadata": {}
        }
      ]
    },
    {
      "cell_type": "markdown",
      "source": "1.3.4",
      "metadata": {}
    },
    {
      "cell_type": "code",
      "source": "w,h = 5,8\nA = [[1 if (i <= 0 or j <= 0 or i >= h-1 or j >= w-1) else 0 for j in range(0,w)] for i in range(0,h)]\nA",
      "metadata": {
        "trusted": true
      },
      "execution_count": 26,
      "outputs": [
        {
          "execution_count": 26,
          "output_type": "execute_result",
          "data": {
            "text/plain": "[[1, 1, 1, 1, 1],\n [1, 0, 0, 0, 1],\n [1, 0, 0, 0, 1],\n [1, 0, 0, 0, 1],\n [1, 0, 0, 0, 1],\n [1, 0, 0, 0, 1],\n [1, 0, 0, 0, 1],\n [1, 1, 1, 1, 1]]"
          },
          "metadata": {}
        }
      ]
    },
    {
      "cell_type": "markdown",
      "source": "1.3.5 ",
      "metadata": {}
    },
    {
      "cell_type": "code",
      "source": "A = rnd.randint(10,size=15)\nprint(A)\nA.sort()\nB = A[::-1]\nprint(B)",
      "metadata": {
        "trusted": true
      },
      "execution_count": 68,
      "outputs": [
        {
          "name": "stdout",
          "text": "[7 4 3 5 3 9 1 0 7 2 0 0 6 6 2]\n[9 7 7 6 6 5 4 3 3 2 2 1 0 0 0]\n",
          "output_type": "stream"
        }
      ]
    },
    {
      "cell_type": "markdown",
      "source": "1.3.6",
      "metadata": {}
    },
    {
      "cell_type": "code",
      "source": "A = rnd.randint(10,size=(rnd.randint(3,9),rnd.randint(3,9)))\nw,h = len(A[0]),len(A)\nprint(\"Квадратная \" if w == h else \"Прямоугольная \",w,\"x\",h)\nA",
      "metadata": {
        "trusted": true
      },
      "execution_count": 71,
      "outputs": [
        {
          "name": "stdout",
          "text": "Прямоугольная  4 x 5\n",
          "output_type": "stream"
        },
        {
          "execution_count": 71,
          "output_type": "execute_result",
          "data": {
            "text/plain": "array([[9, 1, 6, 4],\n       [8, 8, 9, 3],\n       [4, 4, 4, 8],\n       [3, 0, 2, 0],\n       [3, 4, 5, 0]])"
          },
          "metadata": {}
        }
      ]
    },
    {
      "cell_type": "markdown",
      "source": "2.3.1",
      "metadata": {}
    },
    {
      "cell_type": "code",
      "source": "import pandas as pd\n\ndata = pd.read_csv(\"titanic.csv\")\ndata.dropna()\ndata[\"PClass\"] = pd.factorize(data[\"PClass\"])[0]\ndata[\"Name\"] = pd.factorize(data[\"Name\"])[0]\ndata[\"Sex\"] = pd.factorize(data[\"Sex\"])[0]\ni,j = rnd.randint(0,len(data)),rnd.randint(0,len(data))\n\ndist = 0\nfor col in data.columns:\n    dist += (data[col].values[i] - data[col].values[j]) ** 2\nnp.sqrt(dist)",
      "metadata": {
        "trusted": true
      },
      "execution_count": 127,
      "outputs": [
        {
          "execution_count": 127,
          "output_type": "execute_result",
          "data": {
            "text/plain": "387.229905869885"
          },
          "metadata": {}
        }
      ]
    },
    {
      "cell_type": "markdown",
      "source": "2.3.2",
      "metadata": {}
    },
    {
      "cell_type": "code",
      "source": "data = pd.read_csv(\"baby.csv\")\n\ndata",
      "metadata": {
        "trusted": true
      },
      "execution_count": 128,
      "outputs": [
        {
          "execution_count": 128,
          "output_type": "execute_result",
          "data": {
            "text/plain": "        year     name gender    count\n0       2000    Emily      F  25956.0\n1       2000   Hannah      F  23082.0\n2       2000  Madison      F  19968.0\n3       2000   Ashley      F  17997.0\n4       2000    Sarah      F  17702.0\n...      ...      ...    ...      ...\n468182  2014    Nicki      F     15.0\n468183  2014     Nima      F     15.0\n468184  2014     Nita      F     15.0\n468185  2014   Niveah      F     15.0\n468186     2      NaN    NaN      NaN\n\n[468187 rows x 4 columns]",
            "text/html": "<div>\n<style scoped>\n    .dataframe tbody tr th:only-of-type {\n        vertical-align: middle;\n    }\n\n    .dataframe tbody tr th {\n        vertical-align: top;\n    }\n\n    .dataframe thead th {\n        text-align: right;\n    }\n</style>\n<table border=\"1\" class=\"dataframe\">\n  <thead>\n    <tr style=\"text-align: right;\">\n      <th></th>\n      <th>year</th>\n      <th>name</th>\n      <th>gender</th>\n      <th>count</th>\n    </tr>\n  </thead>\n  <tbody>\n    <tr>\n      <th>0</th>\n      <td>2000</td>\n      <td>Emily</td>\n      <td>F</td>\n      <td>25956.0</td>\n    </tr>\n    <tr>\n      <th>1</th>\n      <td>2000</td>\n      <td>Hannah</td>\n      <td>F</td>\n      <td>23082.0</td>\n    </tr>\n    <tr>\n      <th>2</th>\n      <td>2000</td>\n      <td>Madison</td>\n      <td>F</td>\n      <td>19968.0</td>\n    </tr>\n    <tr>\n      <th>3</th>\n      <td>2000</td>\n      <td>Ashley</td>\n      <td>F</td>\n      <td>17997.0</td>\n    </tr>\n    <tr>\n      <th>4</th>\n      <td>2000</td>\n      <td>Sarah</td>\n      <td>F</td>\n      <td>17702.0</td>\n    </tr>\n    <tr>\n      <th>...</th>\n      <td>...</td>\n      <td>...</td>\n      <td>...</td>\n      <td>...</td>\n    </tr>\n    <tr>\n      <th>468182</th>\n      <td>2014</td>\n      <td>Nicki</td>\n      <td>F</td>\n      <td>15.0</td>\n    </tr>\n    <tr>\n      <th>468183</th>\n      <td>2014</td>\n      <td>Nima</td>\n      <td>F</td>\n      <td>15.0</td>\n    </tr>\n    <tr>\n      <th>468184</th>\n      <td>2014</td>\n      <td>Nita</td>\n      <td>F</td>\n      <td>15.0</td>\n    </tr>\n    <tr>\n      <th>468185</th>\n      <td>2014</td>\n      <td>Niveah</td>\n      <td>F</td>\n      <td>15.0</td>\n    </tr>\n    <tr>\n      <th>468186</th>\n      <td>2</td>\n      <td>NaN</td>\n      <td>NaN</td>\n      <td>NaN</td>\n    </tr>\n  </tbody>\n</table>\n<p>468187 rows × 4 columns</p>\n</div>"
          },
          "metadata": {}
        }
      ]
    },
    {
      "cell_type": "markdown",
      "source": "2.3.3",
      "metadata": {}
    },
    {
      "cell_type": "code",
      "source": "data.head(2)",
      "metadata": {
        "trusted": true
      },
      "execution_count": 129,
      "outputs": [
        {
          "execution_count": 129,
          "output_type": "execute_result",
          "data": {
            "text/plain": "   year    name gender    count\n0  2000   Emily      F  25956.0\n1  2000  Hannah      F  23082.0",
            "text/html": "<div>\n<style scoped>\n    .dataframe tbody tr th:only-of-type {\n        vertical-align: middle;\n    }\n\n    .dataframe tbody tr th {\n        vertical-align: top;\n    }\n\n    .dataframe thead th {\n        text-align: right;\n    }\n</style>\n<table border=\"1\" class=\"dataframe\">\n  <thead>\n    <tr style=\"text-align: right;\">\n      <th></th>\n      <th>year</th>\n      <th>name</th>\n      <th>gender</th>\n      <th>count</th>\n    </tr>\n  </thead>\n  <tbody>\n    <tr>\n      <th>0</th>\n      <td>2000</td>\n      <td>Emily</td>\n      <td>F</td>\n      <td>25956.0</td>\n    </tr>\n    <tr>\n      <th>1</th>\n      <td>2000</td>\n      <td>Hannah</td>\n      <td>F</td>\n      <td>23082.0</td>\n    </tr>\n  </tbody>\n</table>\n</div>"
          },
          "metadata": {}
        }
      ]
    },
    {
      "cell_type": "code",
      "source": "data.tail(3)",
      "metadata": {
        "trusted": true
      },
      "execution_count": 130,
      "outputs": [
        {
          "execution_count": 130,
          "output_type": "execute_result",
          "data": {
            "text/plain": "        year    name gender  count\n468184  2014    Nita      F   15.0\n468185  2014  Niveah      F   15.0\n468186     2     NaN    NaN    NaN",
            "text/html": "<div>\n<style scoped>\n    .dataframe tbody tr th:only-of-type {\n        vertical-align: middle;\n    }\n\n    .dataframe tbody tr th {\n        vertical-align: top;\n    }\n\n    .dataframe thead th {\n        text-align: right;\n    }\n</style>\n<table border=\"1\" class=\"dataframe\">\n  <thead>\n    <tr style=\"text-align: right;\">\n      <th></th>\n      <th>year</th>\n      <th>name</th>\n      <th>gender</th>\n      <th>count</th>\n    </tr>\n  </thead>\n  <tbody>\n    <tr>\n      <th>468184</th>\n      <td>2014</td>\n      <td>Nita</td>\n      <td>F</td>\n      <td>15.0</td>\n    </tr>\n    <tr>\n      <th>468185</th>\n      <td>2014</td>\n      <td>Niveah</td>\n      <td>F</td>\n      <td>15.0</td>\n    </tr>\n    <tr>\n      <th>468186</th>\n      <td>2</td>\n      <td>NaN</td>\n      <td>NaN</td>\n      <td>NaN</td>\n    </tr>\n  </tbody>\n</table>\n</div>"
          },
          "metadata": {}
        }
      ]
    },
    {
      "cell_type": "code",
      "source": "data.shape",
      "metadata": {
        "trusted": true
      },
      "execution_count": 131,
      "outputs": [
        {
          "execution_count": 131,
          "output_type": "execute_result",
          "data": {
            "text/plain": "(468187, 4)"
          },
          "metadata": {}
        }
      ]
    },
    {
      "cell_type": "code",
      "source": "data.describe()",
      "metadata": {
        "trusted": true
      },
      "execution_count": 132,
      "outputs": [
        {
          "execution_count": 132,
          "output_type": "execute_result",
          "data": {
            "text/plain": "                year          count\ncount  468187.000000  468186.000000\nmean     2006.789531     116.921463\nstd         5.002868     787.553184\nmin         2.000000       5.000000\n25%      2003.000000       7.000000\n50%      2007.000000      12.000000\n75%      2010.000000      30.000000\nmax      2014.000000   34477.000000",
            "text/html": "<div>\n<style scoped>\n    .dataframe tbody tr th:only-of-type {\n        vertical-align: middle;\n    }\n\n    .dataframe tbody tr th {\n        vertical-align: top;\n    }\n\n    .dataframe thead th {\n        text-align: right;\n    }\n</style>\n<table border=\"1\" class=\"dataframe\">\n  <thead>\n    <tr style=\"text-align: right;\">\n      <th></th>\n      <th>year</th>\n      <th>count</th>\n    </tr>\n  </thead>\n  <tbody>\n    <tr>\n      <th>count</th>\n      <td>468187.000000</td>\n      <td>468186.000000</td>\n    </tr>\n    <tr>\n      <th>mean</th>\n      <td>2006.789531</td>\n      <td>116.921463</td>\n    </tr>\n    <tr>\n      <th>std</th>\n      <td>5.002868</td>\n      <td>787.553184</td>\n    </tr>\n    <tr>\n      <th>min</th>\n      <td>2.000000</td>\n      <td>5.000000</td>\n    </tr>\n    <tr>\n      <th>25%</th>\n      <td>2003.000000</td>\n      <td>7.000000</td>\n    </tr>\n    <tr>\n      <th>50%</th>\n      <td>2007.000000</td>\n      <td>12.000000</td>\n    </tr>\n    <tr>\n      <th>75%</th>\n      <td>2010.000000</td>\n      <td>30.000000</td>\n    </tr>\n    <tr>\n      <th>max</th>\n      <td>2014.000000</td>\n      <td>34477.000000</td>\n    </tr>\n  </tbody>\n</table>\n</div>"
          },
          "metadata": {}
        }
      ]
    },
    {
      "cell_type": "code",
      "source": "data.iloc[1:4]",
      "metadata": {
        "trusted": true
      },
      "execution_count": 134,
      "outputs": [
        {
          "execution_count": 134,
          "output_type": "execute_result",
          "data": {
            "text/plain": "   year     name gender    count\n1  2000   Hannah      F  23082.0\n2  2000  Madison      F  19968.0\n3  2000   Ashley      F  17997.0",
            "text/html": "<div>\n<style scoped>\n    .dataframe tbody tr th:only-of-type {\n        vertical-align: middle;\n    }\n\n    .dataframe tbody tr th {\n        vertical-align: top;\n    }\n\n    .dataframe thead th {\n        text-align: right;\n    }\n</style>\n<table border=\"1\" class=\"dataframe\">\n  <thead>\n    <tr style=\"text-align: right;\">\n      <th></th>\n      <th>year</th>\n      <th>name</th>\n      <th>gender</th>\n      <th>count</th>\n    </tr>\n  </thead>\n  <tbody>\n    <tr>\n      <th>1</th>\n      <td>2000</td>\n      <td>Hannah</td>\n      <td>F</td>\n      <td>23082.0</td>\n    </tr>\n    <tr>\n      <th>2</th>\n      <td>2000</td>\n      <td>Madison</td>\n      <td>F</td>\n      <td>19968.0</td>\n    </tr>\n    <tr>\n      <th>3</th>\n      <td>2000</td>\n      <td>Ashley</td>\n      <td>F</td>\n      <td>17997.0</td>\n    </tr>\n  </tbody>\n</table>\n</div>"
          },
          "metadata": {}
        }
      ]
    },
    {
      "cell_type": "code",
      "source": "data[data[\"year\"] >= 2004].head(2)",
      "metadata": {
        "trusted": true
      },
      "execution_count": 136,
      "outputs": [
        {
          "execution_count": 136,
          "output_type": "execute_result",
          "data": {
            "text/plain": "        year   name gender    count\n121795  2004  Emily      F  25037.0\n121796  2004   Emma      F  21607.0",
            "text/html": "<div>\n<style scoped>\n    .dataframe tbody tr th:only-of-type {\n        vertical-align: middle;\n    }\n\n    .dataframe tbody tr th {\n        vertical-align: top;\n    }\n\n    .dataframe thead th {\n        text-align: right;\n    }\n</style>\n<table border=\"1\" class=\"dataframe\">\n  <thead>\n    <tr style=\"text-align: right;\">\n      <th></th>\n      <th>year</th>\n      <th>name</th>\n      <th>gender</th>\n      <th>count</th>\n    </tr>\n  </thead>\n  <tbody>\n    <tr>\n      <th>121795</th>\n      <td>2004</td>\n      <td>Emily</td>\n      <td>F</td>\n      <td>25037.0</td>\n    </tr>\n    <tr>\n      <th>121796</th>\n      <td>2004</td>\n      <td>Emma</td>\n      <td>F</td>\n      <td>21607.0</td>\n    </tr>\n  </tbody>\n</table>\n</div>"
          },
          "metadata": {}
        }
      ]
    },
    {
      "cell_type": "markdown",
      "source": "3.3.2",
      "metadata": {}
    },
    {
      "cell_type": "code",
      "source": "from sklearn import preprocessing\n\ndata = pd.read_csv(\"iris.csv\")\ndata[\"sepal_length_cm\"] = preprocessing.MinMaxScaler(feature_range=(0,1)).fit_transform(data[[\"sepal_length_cm\"]])\ndata[\"sepal_width_cm\"] = preprocessing.StandardScaler().fit_transform(data[[\"sepal_width_cm\"]])\ndata",
      "metadata": {
        "trusted": true
      },
      "execution_count": 146,
      "outputs": [
        {
          "execution_count": 146,
          "output_type": "execute_result",
          "data": {
            "text/plain": "     sepal_length_cm  sepal_width_cm  petal_length_cm  petal_width_cm  \\\n0           0.222222        1.032057              1.4             0.2   \n1           0.166667       -0.124958              1.4             0.2   \n2           0.111111        0.337848              1.3             0.2   \n3           0.083333        0.106445              1.5             0.2   \n4           0.194444        1.263460              1.4             0.2   \n..               ...             ...              ...             ...   \n145         0.666667       -0.124958              5.2             2.3   \n146         0.555556       -1.281972              5.0             1.9   \n147         0.611111       -0.124958              5.2             2.0   \n148         0.527778        0.800654              5.4             2.3   \n149         0.444444       -0.124958              5.1             1.8   \n\n       species  \n0       setosa  \n1       setosa  \n2       setosa  \n3       setosa  \n4       setosa  \n..         ...  \n145  virginica  \n146  virginica  \n147  virginica  \n148  virginica  \n149  virginica  \n\n[150 rows x 5 columns]",
            "text/html": "<div>\n<style scoped>\n    .dataframe tbody tr th:only-of-type {\n        vertical-align: middle;\n    }\n\n    .dataframe tbody tr th {\n        vertical-align: top;\n    }\n\n    .dataframe thead th {\n        text-align: right;\n    }\n</style>\n<table border=\"1\" class=\"dataframe\">\n  <thead>\n    <tr style=\"text-align: right;\">\n      <th></th>\n      <th>sepal_length_cm</th>\n      <th>sepal_width_cm</th>\n      <th>petal_length_cm</th>\n      <th>petal_width_cm</th>\n      <th>species</th>\n    </tr>\n  </thead>\n  <tbody>\n    <tr>\n      <th>0</th>\n      <td>0.222222</td>\n      <td>1.032057</td>\n      <td>1.4</td>\n      <td>0.2</td>\n      <td>setosa</td>\n    </tr>\n    <tr>\n      <th>1</th>\n      <td>0.166667</td>\n      <td>-0.124958</td>\n      <td>1.4</td>\n      <td>0.2</td>\n      <td>setosa</td>\n    </tr>\n    <tr>\n      <th>2</th>\n      <td>0.111111</td>\n      <td>0.337848</td>\n      <td>1.3</td>\n      <td>0.2</td>\n      <td>setosa</td>\n    </tr>\n    <tr>\n      <th>3</th>\n      <td>0.083333</td>\n      <td>0.106445</td>\n      <td>1.5</td>\n      <td>0.2</td>\n      <td>setosa</td>\n    </tr>\n    <tr>\n      <th>4</th>\n      <td>0.194444</td>\n      <td>1.263460</td>\n      <td>1.4</td>\n      <td>0.2</td>\n      <td>setosa</td>\n    </tr>\n    <tr>\n      <th>...</th>\n      <td>...</td>\n      <td>...</td>\n      <td>...</td>\n      <td>...</td>\n      <td>...</td>\n    </tr>\n    <tr>\n      <th>145</th>\n      <td>0.666667</td>\n      <td>-0.124958</td>\n      <td>5.2</td>\n      <td>2.3</td>\n      <td>virginica</td>\n    </tr>\n    <tr>\n      <th>146</th>\n      <td>0.555556</td>\n      <td>-1.281972</td>\n      <td>5.0</td>\n      <td>1.9</td>\n      <td>virginica</td>\n    </tr>\n    <tr>\n      <th>147</th>\n      <td>0.611111</td>\n      <td>-0.124958</td>\n      <td>5.2</td>\n      <td>2.0</td>\n      <td>virginica</td>\n    </tr>\n    <tr>\n      <th>148</th>\n      <td>0.527778</td>\n      <td>0.800654</td>\n      <td>5.4</td>\n      <td>2.3</td>\n      <td>virginica</td>\n    </tr>\n    <tr>\n      <th>149</th>\n      <td>0.444444</td>\n      <td>-0.124958</td>\n      <td>5.1</td>\n      <td>1.8</td>\n      <td>virginica</td>\n    </tr>\n  </tbody>\n</table>\n<p>150 rows × 5 columns</p>\n</div>"
          },
          "metadata": {}
        }
      ]
    }
  ]
}