{
  "metadata": {
    "kernelspec": {
      "name": "python",
      "display_name": "Python (Pyodide)",
      "language": "python"
    },
    "language_info": {
      "codemirror_mode": {
        "name": "python",
        "version": 3
      },
      "file_extension": ".py",
      "mimetype": "text/x-python",
      "name": "python",
      "nbconvert_exporter": "python",
      "pygments_lexer": "ipython3",
      "version": "3.8"
    }
  },
  "nbformat_minor": 5,
  "nbformat": 4,
  "cells": [
    {
      "cell_type": "markdown",
      "source": "# 1.1.1",
      "metadata": {},
      "id": "64e2d519"
    },
    {
      "cell_type": "code",
      "source": "import numpy as np\n\ndef sigmoid(x):\n    return 1/(1+np.exp(-x))\nclass Neuron:\n    def __init__(self,weights,bias):\n        self.weights = weights\n        self.bias =bias\n    def feedforward(self,inputs):\n        total = np.dot(self.weights,inputs)+self.bias\n        return sigmoid(total)\n    \nclass OurNeuralNetwork1:\n    def __init__(self):\n        weights = np.array([0.5,0.5,0.5])\n        bias = 0\n        self.h1 = Neuron(weights,bias)\n        self.h2 = Neuron(weights,bias)\n        self.h3 = Neuron(weights,bias)\n        self.o1 = Neuron(weights,bias)\n    def feedforward(self,x):\n        out_h1 = self.h1.feedforward(x)\n        out_h2 = self.h2.feedforward(x)\n        out_h3 = self.h2.feedforward(x)\n        out_o1 = self.o1.feedforward(np.array([out_h1,out_h2,out_h3]))\n        return out_o1\n    \nclass OurNeuralNetwork2:\n    def __init__(self):\n        weights = np.array([1,0])\n        bias = 1\n        self.h1 = Neuron(weights,bias)\n        self.h2 = Neuron(weights,bias)\n        self.o1 = Neuron(weights,bias)\n        self.o2 = Neuron(weights,bias)\n    def feedforward(self,x):\n        out_h1 = self.h1.feedforward(x)\n        out_h2 = self.h2.feedforward(x)\n        out_o1 = self.o1.feedforward(np.array([out_h1,out_h2]))\n        out_o2 = self.o2.feedforward(np.array([out_h1,out_h2]))\n        return [out_o1,out_o2]\nnetwork1 = OurNeuralNetwork1()\nx = np.array([2,2,3])\nprint(network1.feedforward(x))\n\nnetwork2 = OurNeuralNetwork2()\nx = np.array([2,3])\nprint(network2.feedforward(x))",
      "metadata": {
        "trusted": true
      },
      "execution_count": 2,
      "outputs": [
        {
          "name": "stdout",
          "text": "0.810924976111517\n[0.8757270529783324, 0.8757270529783324]\n",
          "output_type": "stream"
        }
      ],
      "id": "005f20c5"
    },
    {
      "cell_type": "markdown",
      "source": "# 1.1.2",
      "metadata": {},
      "id": "ded92ef4"
    },
    {
      "cell_type": "code",
      "source": "import numpy as np\nimport math\n\ndef sigmoid(x):\n    return 1/(1+np.exp(-x))\n\ndef tanh(x):\n    return np.tanh(x)\n\ndef ReLu(x):\n    return max(0,x)\n\nclass Neuron:\n    def __init__(self,weights,bias):\n        self.weights = weights\n        self.bias =bias\n    def feedforward(self,inputs,f):\n        total = np.dot(self.weights,inputs)+self.bias\n        if f == \"sigmoid\":\n            return sigmoid(total)\n        if f == \"tanh\":\n            return tanh(total)\n        if f == \"relu\":\n            return ReLu(total)\n    \nclass OurNeuralNetwork:\n    def __init__(self):\n        weights = np.array([0,1])\n        bias = 0\n        self.h1 = Neuron(weights,bias)\n        self.h2 = Neuron(weights,bias)\n        self.o1 = Neuron(weights,bias)\n    def feedforward(self,x,func):\n        out_h1 = self.h1.feedforward(x,func)\n        out_h2 = self.h2.feedforward(x,func)\n        out_o1 = self.o1.feedforward(np.array([out_h1,out_h2]),func)\n        return out_o1\n\nnetwork = OurNeuralNetwork()\nx = np.array([1,3])\nprint(network.feedforward(x,\"sigmoid\"))\nprint(network.feedforward(x,\"tanh\"))\nprint(network.feedforward(x,\"relu\"))",
      "metadata": {
        "scrolled": true,
        "tags": [],
        "trusted": true
      },
      "execution_count": 3,
      "outputs": [
        {
          "name": "stdout",
          "text": "0.7216325609518421\n0.7595094447988621\n3\n",
          "output_type": "stream"
        }
      ],
      "id": "fdd2a87c"
    },
    {
      "cell_type": "markdown",
      "source": "# 1.2.1",
      "metadata": {
        "tags": []
      },
      "id": "d4e482ea"
    },
    {
      "cell_type": "code",
      "source": "import numpy as np\nimport pandas as pd\nfrom sklearn.model_selection import train_test_split\nfrom sklearn.neural_network import MLPClassifier\n\ndf = pd.read_csv(\"iris.csv\")\ndisplay(df.head(5))\n\nx_df,y_df = df.drop(['variety'],axis=1), df.variety\nprint(x_df.shape,y_df.shape)\n\nx_train,x_test,y_train,y_test = train_test_split(x_df,y_df,test_size=0.2,random_state=123)\nprint(x_train.shape,x_test.shape,y_train.shape,y_test.shape)\n\nmlp_classifier = MLPClassifier(random_state=123)\nmlp_classifier.fit(x_train, y_train)\ny_preds = mlp_classifier.predict(x_test)\nprint(y_preds[:15])\nprint(y_test[:15])\nprint(\"Test accuracy: %.3f\"%mlp_classifier.score(x_test,y_test))\nprint(\"Trainig accuracy: %.3f\"%mlp_classifier.score(x_train,y_train))\nprint(\"Loss: \",mlp_classifier.loss_)\nprint(\"Number of coefs: \",len(mlp_classifier.coefs_))\nprint(\"Number of intercepts: \",len(mlp_classifier.intercepts_))\nprint(\"Number of iterations for which estimator ran: \",mlp_classifier.n_iter_)\nprint(\"Name of output layer activation function: \",mlp_classifier.out_activation_)",
      "metadata": {
        "trusted": true
      },
      "execution_count": 5,
      "outputs": [
        {
          "output_type": "display_data",
          "data": {
            "text/plain": "   sepal.length  sepal.width  petal.length  petal.width variety\n0           5.1          3.5           1.4          0.2  Setosa\n1           4.9          3.0           1.4          0.2  Setosa\n2           4.7          3.2           1.3          0.2  Setosa\n3           4.6          3.1           1.5          0.2  Setosa\n4           5.0          3.6           1.4          0.2  Setosa",
            "text/html": "<div>\n<style scoped>\n    .dataframe tbody tr th:only-of-type {\n        vertical-align: middle;\n    }\n\n    .dataframe tbody tr th {\n        vertical-align: top;\n    }\n\n    .dataframe thead th {\n        text-align: right;\n    }\n</style>\n<table border=\"1\" class=\"dataframe\">\n  <thead>\n    <tr style=\"text-align: right;\">\n      <th></th>\n      <th>sepal.length</th>\n      <th>sepal.width</th>\n      <th>petal.length</th>\n      <th>petal.width</th>\n      <th>variety</th>\n    </tr>\n  </thead>\n  <tbody>\n    <tr>\n      <th>0</th>\n      <td>5.1</td>\n      <td>3.5</td>\n      <td>1.4</td>\n      <td>0.2</td>\n      <td>Setosa</td>\n    </tr>\n    <tr>\n      <th>1</th>\n      <td>4.9</td>\n      <td>3.0</td>\n      <td>1.4</td>\n      <td>0.2</td>\n      <td>Setosa</td>\n    </tr>\n    <tr>\n      <th>2</th>\n      <td>4.7</td>\n      <td>3.2</td>\n      <td>1.3</td>\n      <td>0.2</td>\n      <td>Setosa</td>\n    </tr>\n    <tr>\n      <th>3</th>\n      <td>4.6</td>\n      <td>3.1</td>\n      <td>1.5</td>\n      <td>0.2</td>\n      <td>Setosa</td>\n    </tr>\n    <tr>\n      <th>4</th>\n      <td>5.0</td>\n      <td>3.6</td>\n      <td>1.4</td>\n      <td>0.2</td>\n      <td>Setosa</td>\n    </tr>\n  </tbody>\n</table>\n</div>"
          },
          "metadata": {}
        },
        {
          "name": "stdout",
          "text": "(150, 4) (150,)\n(120, 4) (30, 4) (120,) (30,)\n",
          "output_type": "stream"
        },
        {
          "name": "stderr",
          "text": "/lib/python3.11/site-packages/sklearn/neural_network/_multilayer_perceptron.py:691: ConvergenceWarning: Stochastic Optimizer: Maximum iterations (200) reached and the optimization hasn't converged yet.\n  warnings.warn(\n",
          "output_type": "stream"
        },
        {
          "name": "stdout",
          "text": "['Versicolor' 'Virginica' 'Virginica' 'Versicolor' 'Setosa' 'Virginica'\n 'Versicolor' 'Setosa' 'Setosa' 'Versicolor' 'Virginica' 'Setosa'\n 'Versicolor' 'Virginica' 'Virginica']\n72     Versicolor\n112     Virginica\n132     Virginica\n88     Versicolor\n37         Setosa\n138     Virginica\n87     Versicolor\n42         Setosa\n8          Setosa\n90     Versicolor\n141     Virginica\n33         Setosa\n59     Versicolor\n116     Virginica\n135     Virginica\nName: variety, dtype: object\nTest accuracy: 0.967\nTrainig accuracy: 0.975\nLoss:  0.3012607394074939\nNumber of coefs:  2\nNumber of intercepts:  2\nNumber of iterations for which estimator ran:  200\nName of output layer activation function:  softmax\n",
          "output_type": "stream"
        }
      ],
      "id": "07b8fee3"
    },
    {
      "cell_type": "code",
      "source": "import numpy as np\nimport pandas as pd\nfrom sklearn.model_selection import train_test_split\nfrom sklearn.neural_network import MLPRegressor\n\ndf = pd.read_csv(\"salary.csv\")\ndisplay(df.head(5))\n\nx_df,y_df = df.iloc[:,:-1], df.iloc[:,-1]\n\nx_train,x_test,y_train,y_test = train_test_split(x_df,y_df,test_size=0.2,random_state=123)\n\nmlp_regressor = MLPRegressor(random_state=123)\nmlp_regressor.fit(x_train, y_train)\ny_preds = mlp_regressor.predict(x_test)\nprint(\"Test accuracy: %.3f\"%mlp_regressor.score(x_test,y_test))\nprint(\"Trainig accuracy: %.3f\"%mlp_regressor.score(x_train,y_train))\nprint(\"Loss: \",mlp_regressor.loss_)\nprint(\"Number of coefs: \",len(mlp_regressor.coefs_))\nprint(\"Number of intercepts: \",len(mlp_regressor.intercepts_))\nprint(\"Number of iterations for which estimator ran: \",mlp_regressor.n_iter_)\nprint(\"Name of output layer activation function: \",mlp_regressor.out_activation_)",
      "metadata": {
        "trusted": true
      },
      "execution_count": 43,
      "outputs": [
        {
          "output_type": "display_data",
          "data": {
            "text/plain": "   YearsExperience   Salary\n0              1.1  39343.0\n1              1.3  46205.0\n2              1.5  37731.0\n3              2.0  43525.0\n4              2.2  39891.0",
            "text/html": "<div>\n<style scoped>\n    .dataframe tbody tr th:only-of-type {\n        vertical-align: middle;\n    }\n\n    .dataframe tbody tr th {\n        vertical-align: top;\n    }\n\n    .dataframe thead th {\n        text-align: right;\n    }\n</style>\n<table border=\"1\" class=\"dataframe\">\n  <thead>\n    <tr style=\"text-align: right;\">\n      <th></th>\n      <th>YearsExperience</th>\n      <th>Salary</th>\n    </tr>\n  </thead>\n  <tbody>\n    <tr>\n      <th>0</th>\n      <td>1.1</td>\n      <td>39343.0</td>\n    </tr>\n    <tr>\n      <th>1</th>\n      <td>1.3</td>\n      <td>46205.0</td>\n    </tr>\n    <tr>\n      <th>2</th>\n      <td>1.5</td>\n      <td>37731.0</td>\n    </tr>\n    <tr>\n      <th>3</th>\n      <td>2.0</td>\n      <td>43525.0</td>\n    </tr>\n    <tr>\n      <th>4</th>\n      <td>2.2</td>\n      <td>39891.0</td>\n    </tr>\n  </tbody>\n</table>\n</div>"
          },
          "metadata": {}
        },
        {
          "name": "stderr",
          "text": "/lib/python3.11/site-packages/sklearn/neural_network/_multilayer_perceptron.py:691: ConvergenceWarning: Stochastic Optimizer: Maximum iterations (200) reached and the optimization hasn't converged yet.\n  warnings.warn(\n",
          "output_type": "stream"
        },
        {
          "name": "stdout",
          "text": "Test accuracy: -3.156\nTrainig accuracy: -3.402\nLoss:  141323.32917780828\nNumber of coefs:  2\nNumber of intercepts:  2\nNumber of iterations for which estimator ran:  200\nName of output layer activation function:  identity\n",
          "output_type": "stream"
        }
      ],
      "id": "817d8ac3"
    },
    {
      "cell_type": "code",
      "source": "from numpy import random as rnd\n\nrng = rnd.default_rng()\n\nx = np.arange(1,50,2,dtype=float)\ny = np.array(x)\n\nfor i in range(0,len(x)):\n    x[i] += rng.random() - 0.5\n    y[i] = x[i] * 100\n    \nx_df = pd.DataFrame(data=x, index=range(0,len(x)), columns=[\"s\"])\ny_df = pd.DataFrame(data=y, index=range(0,len(x)), columns=[\"y\"])\n\nx_train,x_test,y_train,y_test = train_test_split(x_df,y_df,test_size=0.2,random_state=123)\n\nmlp = MLPRegressor(random_state=123)\nmlp.fit(x_train, y_train)\ny_preds = mlp.predict(x_test)\nprint(\"Test accuracy: %.3f\"%mlp.score(x_test,y_test))\nprint(\"Trainig accuracy: %.3f\"%mlp.score(x_train,y_train))\n\ndisplay(x_df.head(5))\ndisplay(y_df.head(5))",
      "metadata": {
        "trusted": true
      },
      "execution_count": 77,
      "outputs": [
        {
          "name": "stderr",
          "text": "/lib/python3.11/site-packages/sklearn/neural_network/_multilayer_perceptron.py:1625: DataConversionWarning: A column-vector y was passed when a 1d array was expected. Please change the shape of y to (n_samples, ), for example using ravel().\n  y = column_or_1d(y, warn=True)\n/lib/python3.11/site-packages/sklearn/neural_network/_multilayer_perceptron.py:691: ConvergenceWarning: Stochastic Optimizer: Maximum iterations (200) reached and the optimization hasn't converged yet.\n  warnings.warn(\n",
          "output_type": "stream"
        },
        {
          "name": "stdout",
          "text": "Test accuracy: -6.786\nTrainig accuracy: -2.227\n",
          "output_type": "stream"
        },
        {
          "output_type": "display_data",
          "data": {
            "text/plain": "          s\n0  0.877950\n1  2.546733\n2  4.881887\n3  6.753907\n4  9.053601",
            "text/html": "<div>\n<style scoped>\n    .dataframe tbody tr th:only-of-type {\n        vertical-align: middle;\n    }\n\n    .dataframe tbody tr th {\n        vertical-align: top;\n    }\n\n    .dataframe thead th {\n        text-align: right;\n    }\n</style>\n<table border=\"1\" class=\"dataframe\">\n  <thead>\n    <tr style=\"text-align: right;\">\n      <th></th>\n      <th>s</th>\n    </tr>\n  </thead>\n  <tbody>\n    <tr>\n      <th>0</th>\n      <td>0.877950</td>\n    </tr>\n    <tr>\n      <th>1</th>\n      <td>2.546733</td>\n    </tr>\n    <tr>\n      <th>2</th>\n      <td>4.881887</td>\n    </tr>\n    <tr>\n      <th>3</th>\n      <td>6.753907</td>\n    </tr>\n    <tr>\n      <th>4</th>\n      <td>9.053601</td>\n    </tr>\n  </tbody>\n</table>\n</div>"
          },
          "metadata": {}
        },
        {
          "output_type": "display_data",
          "data": {
            "text/plain": "            y\n0   87.795008\n1  254.673335\n2  488.188724\n3  675.390690\n4  905.360125",
            "text/html": "<div>\n<style scoped>\n    .dataframe tbody tr th:only-of-type {\n        vertical-align: middle;\n    }\n\n    .dataframe tbody tr th {\n        vertical-align: top;\n    }\n\n    .dataframe thead th {\n        text-align: right;\n    }\n</style>\n<table border=\"1\" class=\"dataframe\">\n  <thead>\n    <tr style=\"text-align: right;\">\n      <th></th>\n      <th>y</th>\n    </tr>\n  </thead>\n  <tbody>\n    <tr>\n      <th>0</th>\n      <td>87.795008</td>\n    </tr>\n    <tr>\n      <th>1</th>\n      <td>254.673335</td>\n    </tr>\n    <tr>\n      <th>2</th>\n      <td>488.188724</td>\n    </tr>\n    <tr>\n      <th>3</th>\n      <td>675.390690</td>\n    </tr>\n    <tr>\n      <th>4</th>\n      <td>905.360125</td>\n    </tr>\n  </tbody>\n</table>\n</div>"
          },
          "metadata": {}
        }
      ],
      "id": "cf8618be-1a4f-47df-a2a4-9956c7a14b3e"
    },
    {
      "cell_type": "code",
      "source": "",
      "metadata": {},
      "execution_count": null,
      "outputs": [],
      "id": "d4e5bb5c-9bcf-438f-8778-34b2d4b7e858"
    }
  ]
}